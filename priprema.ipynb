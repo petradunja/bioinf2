{
 "cells": [
  {
   "cell_type": "markdown",
   "id": "b1fcde22",
   "metadata": {},
   "source": [
    "Priprema podataka\n",
    "- dobivanje parova nizova iz poravnanja višestrukih sekvenci (engl. Multiple sequence alignment)\n",
    "- korištenje podataka ([HIV Sequence Alignments](https://www.hiv.lanl.gov/content/sequence/NEWALIGN/align.html)) za inicijalizaciju matrica u Baum-Welch algoritmu\n"
   ]
  },
  {
   "cell_type": "code",
   "execution_count": 1,
   "id": "096506ad",
   "metadata": {},
   "outputs": [],
   "source": [
    "from tqdm import tqdm\n",
    "import itertools\n",
    "from collections import Counter"
   ]
  },
  {
   "cell_type": "code",
   "execution_count": 11,
   "id": "c956d793",
   "metadata": {},
   "outputs": [
    {
     "name": "stderr",
     "output_type": "stream",
     "text": [
      "Reading FASTA file: 100%|████████████████████████████████████████████████| 1515900/1515900 [00:02<00:00, 709162.99it/s]\n"
     ]
    }
   ],
   "source": [
    "from tqdm import tqdm\n",
    "\n",
    "def read_fasta(file_path):\n",
    "    sequences = []\n",
    "    current_sequence = \"\"\n",
    "    current_header = \"\"\n",
    "\n",
    "    total_lines = sum(1 for line in open(file_path, 'r'))\n",
    "\n",
    "    with open(file_path, 'r') as file:\n",
    "        for line in tqdm(file, total=total_lines, desc=\"Reading FASTA file\"):\n",
    "            line = line.strip()\n",
    "            if line.startswith('>'):\n",
    "                if current_header: #dodaj sekvencu\n",
    "                    sequences.append(current_sequence)\n",
    "                current_header = line[1:]\n",
    "                current_sequence = \"\"\n",
    "            else:\n",
    "                current_sequence += line\n",
    "\n",
    "    #zadnja sekvenca\n",
    "    if current_header:\n",
    "        sequences.append(current_sequence)\n",
    "\n",
    "    return sequences\n",
    "\n",
    "\n",
    "fasta_file_path = 'HIV1_ALL_2021_genome_DNA.fasta'\n",
    "#trebalo bi učitati 1000 sekvenci ili barem 500\n",
    "sequences = read_fasta(fasta_file_path)[:500]#radi ograničenih resursa zadržat ćemo 500 sekvenci\n",
    "\n",
    "\n",
    "\n"
   ]
  },
  {
   "cell_type": "code",
   "execution_count": 12,
   "id": "459e504f",
   "metadata": {},
   "outputs": [
    {
     "name": "stdout",
     "output_type": "stream",
     "text": [
      "Ukupan broj sekvenci: 500\n",
      "Duljina sekvenci: Counter({14937: 500})\n"
     ]
    }
   ],
   "source": [
    "print(f\"Ukupan broj sekvenci: {len(sequences)}\")\n",
    "print(f\"Duljina sekvenci: {Counter([len(i) for i in sequences])}\")"
   ]
  },
  {
   "cell_type": "code",
   "execution_count": 16,
   "id": "48338109",
   "metadata": {},
   "outputs": [
    {
     "data": {
      "text/plain": [
       "249500"
      ]
     },
     "execution_count": 16,
     "metadata": {},
     "output_type": "execute_result"
    }
   ],
   "source": [
    "#napravi sve parove od poravnatih sekvenci (i (x,y) i (y,x))\n",
    "pairs = list(itertools.permutations(sequences, 2))\n",
    "len(pairs)"
   ]
  },
  {
   "cell_type": "code",
   "execution_count": 17,
   "id": "d79b5b75",
   "metadata": {},
   "outputs": [
    {
     "name": "stderr",
     "output_type": "stream",
     "text": [
      " 43%|████████████████████████████████                                          | 108228/249500 [25:28<33:15, 70.78it/s]\n"
     ]
    },
    {
     "ename": "MemoryError",
     "evalue": "",
     "output_type": "error",
     "traceback": [
      "\u001b[1;31m---------------------------------------------------------------------------\u001b[0m",
      "\u001b[1;31mMemoryError\u001b[0m                               Traceback (most recent call last)",
      "\u001b[1;32m~\\AppData\\Local\\Temp/ipykernel_1612/495106517.py\u001b[0m in \u001b[0;36m<module>\u001b[1;34m\u001b[0m\n\u001b[0;32m      6\u001b[0m \u001b[1;32mfor\u001b[0m \u001b[0mpair\u001b[0m \u001b[1;32min\u001b[0m \u001b[0mtqdm\u001b[0m\u001b[1;33m(\u001b[0m\u001b[0mpairs\u001b[0m\u001b[1;33m)\u001b[0m\u001b[1;33m:\u001b[0m\u001b[1;33m\u001b[0m\u001b[1;33m\u001b[0m\u001b[0m\n\u001b[0;32m      7\u001b[0m \u001b[1;33m\u001b[0m\u001b[0m\n\u001b[1;32m----> 8\u001b[1;33m     \u001b[0mprvi\u001b[0m \u001b[1;33m=\u001b[0m \u001b[1;34m''\u001b[0m\u001b[1;33m.\u001b[0m\u001b[0mjoin\u001b[0m\u001b[1;33m(\u001b[0m\u001b[0ma\u001b[0m  \u001b[1;32mfor\u001b[0m \u001b[0ma\u001b[0m\u001b[1;33m,\u001b[0m \u001b[0mb\u001b[0m \u001b[1;32min\u001b[0m \u001b[0mzip\u001b[0m\u001b[1;33m(\u001b[0m\u001b[0mpair\u001b[0m\u001b[1;33m[\u001b[0m\u001b[1;36m0\u001b[0m\u001b[1;33m]\u001b[0m\u001b[1;33m,\u001b[0m \u001b[0mpair\u001b[0m\u001b[1;33m[\u001b[0m\u001b[1;36m1\u001b[0m\u001b[1;33m]\u001b[0m\u001b[1;33m)\u001b[0m \u001b[1;32mif\u001b[0m \u001b[0ma\u001b[0m \u001b[1;33m!=\u001b[0m \u001b[1;34m'-'\u001b[0m \u001b[1;32mor\u001b[0m \u001b[0mb\u001b[0m \u001b[1;33m!=\u001b[0m \u001b[1;34m'-'\u001b[0m \u001b[1;33m)\u001b[0m\u001b[1;33m\u001b[0m\u001b[1;33m\u001b[0m\u001b[0m\n\u001b[0m\u001b[0;32m      9\u001b[0m     \u001b[0mdrugi\u001b[0m \u001b[1;33m=\u001b[0m \u001b[1;34m''\u001b[0m\u001b[1;33m.\u001b[0m\u001b[0mjoin\u001b[0m\u001b[1;33m(\u001b[0m\u001b[0mb\u001b[0m \u001b[1;32mfor\u001b[0m \u001b[0ma\u001b[0m\u001b[1;33m,\u001b[0m \u001b[0mb\u001b[0m \u001b[1;32min\u001b[0m \u001b[0mzip\u001b[0m\u001b[1;33m(\u001b[0m\u001b[0mpair\u001b[0m\u001b[1;33m[\u001b[0m\u001b[1;36m0\u001b[0m\u001b[1;33m]\u001b[0m\u001b[1;33m,\u001b[0m \u001b[0mpair\u001b[0m\u001b[1;33m[\u001b[0m\u001b[1;36m1\u001b[0m\u001b[1;33m]\u001b[0m\u001b[1;33m)\u001b[0m \u001b[1;32mif\u001b[0m \u001b[0ma\u001b[0m \u001b[1;33m!=\u001b[0m \u001b[1;34m'-'\u001b[0m \u001b[1;32mor\u001b[0m \u001b[0mb\u001b[0m \u001b[1;33m!=\u001b[0m \u001b[1;34m'-'\u001b[0m \u001b[1;33m)\u001b[0m\u001b[1;33m\u001b[0m\u001b[1;33m\u001b[0m\u001b[0m\n\u001b[0;32m     10\u001b[0m \u001b[1;33m\u001b[0m\u001b[0m\n",
      "\u001b[1;31mMemoryError\u001b[0m: "
     ]
    }
   ],
   "source": [
    "#parovi = []\n",
    "stanja = {}\n",
    "stanja_lista = []\n",
    "\n",
    "\n",
    "for pair in tqdm(pairs):\n",
    "    \n",
    "    prvi = ''.join(a  for a, b in zip(pair[0], pair[1]) if a != '-' or b != '-' )\n",
    "    drugi = ''.join(b for a, b in zip(pair[0], pair[1]) if a != '-' or b != '-' )\n",
    "\n",
    "\n",
    "    novi_prvi = ''.join('' if ((prvi[i] == '-' and i > 0 and drugi[i-1] == '-') or (prvi[i] == '-' and i < (len(drugi) - 1) and drugi[i + 1] == '-')) else prvi[i] for i in range(len(prvi)))\n",
    "    novi_drugi = ''.join('' if ((drugi[i] == '-' and i > 0 and prvi[i-1] == '-') or (drugi[i] == '-' and i < (len(prvi) - 1) and prvi[i + 1] == '-')) else drugi[i] for i in range(len(drugi)))\n",
    "    \n",
    "    pair2 = (novi_prvi,novi_drugi)\n",
    "    \n",
    "    new_pair = [\n",
    "        'M' if a != '-' and b != '-' else\n",
    "        'Ix' if a != '-' and b == '-' else\n",
    "        'Iy'\n",
    "        for a, b in zip(pair2[0], pair2[1])\n",
    "    ]\n",
    "\n",
    "    stanja[pair2] = new_pair\n",
    "    stanja_lista.append(new_pair)\n",
    "    \n",
    "\n",
    "    #parovi.append((novi_prvi,novi_drugi))\n"
   ]
  },
  {
   "cell_type": "code",
   "execution_count": 4,
   "id": "2d4ddc43",
   "metadata": {},
   "outputs": [],
   "source": [
    "#len(stanja_lista)"
   ]
  },
  {
   "cell_type": "code",
   "execution_count": 5,
   "id": "0e41de4e",
   "metadata": {},
   "outputs": [],
   "source": [
    "#parovi[0][1]"
   ]
  },
  {
   "cell_type": "code",
   "execution_count": 6,
   "id": "6f0e60c1",
   "metadata": {},
   "outputs": [],
   "source": [
    "#list(itertools.permutations([1,2,3],2))"
   ]
  },
  {
   "cell_type": "code",
   "execution_count": 7,
   "id": "2cbb73c1",
   "metadata": {},
   "outputs": [],
   "source": [
    "#list(itertools.combinations([1,2,3],2))"
   ]
  },
  {
   "cell_type": "code",
   "execution_count": 8,
   "id": "91671bb9",
   "metadata": {},
   "outputs": [],
   "source": [
    "#ovo za 1% traje 30 minuta kad se radi na svim podatcima\n",
    "#pairs2 = []\n",
    "#duljina = len(pairs[0][0])  # sve sekvence su jednake duljine\n",
    "\n",
    "#for pair in tqdm(pairs):\n",
    "#    new_pair = (''.join(a for a, b in zip(pair[0], pair[1]) if a != '-' or b != '-'),\n",
    "#        ''.join(b for a, b in zip(pair[0], pair[1]) if a != '-' or b != '-')\n",
    "#    )\n",
    "\n",
    "#    pairs2.append(new_pair)\n",
    "\n",
    "\n"
   ]
  },
  {
   "cell_type": "code",
   "execution_count": 9,
   "id": "8991770b",
   "metadata": {},
   "outputs": [],
   "source": [
    "def preprocess(lista_parova):\n",
    "    rezultat = []\n",
    "\n",
    "    for pair1, pair2 in tqdm(lista_parova):\n",
    "        prvi = ''.join(a for a, b in zip(pair1, pair2) if a != '-' or b != '-')\n",
    "        drugi = ''.join(b for a, b in zip(pair1, pair2) if a != '-' or b != '-')\n",
    "       \n",
    "        \n",
    "        novi_prvi = \"\"\n",
    "        novi_drugi = \"\"\n",
    "\n",
    "        \n",
    "        for i, znak in enumerate(prvi):\n",
    "            if (znak == '-' and i > 0 and drugi[i - 1] == '-') or (znak == '-' and i < (len(drugi) - 1) and drugi[i + 1] == '-'):\n",
    "                continue\n",
    "            novi_prvi += znak\n",
    "            \n",
    "        for i, znak in enumerate(drugi):\n",
    "            if (znak == '-' and i > 0 and prvi[i - 1] == '-') or (znak == '-' and i < (len(prvi) - 1) and prvi[i + 1] == '-'):\n",
    "                continue\n",
    "            novi_drugi += znak\n",
    "\n",
    "        rezultat.append((novi_prvi, novi_drugi))\n",
    "\n",
    "    return rezultat\n",
    "\n",
    "#pairs2 = preprocess(pairs)"
   ]
  },
  {
   "cell_type": "code",
   "execution_count": 9,
   "id": "f1bca367",
   "metadata": {},
   "outputs": [],
   "source": [
    "#za svaki par treba parsirati susjedne procjepe ('-AC'i 'T-C' postaje 'AC' i 'TC')\n",
    "#ako imamo Ix pa Iy ili Iy pa Ix to postaje M"
   ]
  },
  {
   "cell_type": "code",
   "execution_count": 15,
   "id": "44d9f493",
   "metadata": {},
   "outputs": [
    {
     "name": "stderr",
     "output_type": "stream",
     "text": [
      " 44%|███████████████████████████████▉                                         | 109178/249500 [03:31<04:32, 515.03it/s]\n"
     ]
    },
    {
     "ename": "MemoryError",
     "evalue": "",
     "output_type": "error",
     "traceback": [
      "\u001b[1;31m---------------------------------------------------------------------------\u001b[0m",
      "\u001b[1;31mMemoryError\u001b[0m                               Traceback (most recent call last)",
      "\u001b[1;32m~\\AppData\\Local\\Temp/ipykernel_3252/1063094925.py\u001b[0m in \u001b[0;36m<module>\u001b[1;34m\u001b[0m\n\u001b[0;32m      4\u001b[0m \u001b[0mstanja_lista\u001b[0m \u001b[1;33m=\u001b[0m \u001b[1;33m[\u001b[0m\u001b[1;33m]\u001b[0m\u001b[1;33m\u001b[0m\u001b[1;33m\u001b[0m\u001b[0m\n\u001b[0;32m      5\u001b[0m \u001b[1;32mfor\u001b[0m \u001b[0mpair\u001b[0m \u001b[1;32min\u001b[0m \u001b[0mtqdm\u001b[0m\u001b[1;33m(\u001b[0m\u001b[0mpairs2\u001b[0m\u001b[1;33m)\u001b[0m\u001b[1;33m:\u001b[0m\u001b[1;33m\u001b[0m\u001b[1;33m\u001b[0m\u001b[0m\n\u001b[1;32m----> 6\u001b[1;33m     new_pair = [\n\u001b[0m\u001b[0;32m      7\u001b[0m         \u001b[1;34m'M'\u001b[0m \u001b[1;32mif\u001b[0m \u001b[0ma\u001b[0m \u001b[1;33m!=\u001b[0m \u001b[1;34m'-'\u001b[0m \u001b[1;32mand\u001b[0m \u001b[0mb\u001b[0m \u001b[1;33m!=\u001b[0m \u001b[1;34m'-'\u001b[0m \u001b[1;32melse\u001b[0m\u001b[1;33m\u001b[0m\u001b[1;33m\u001b[0m\u001b[0m\n\u001b[0;32m      8\u001b[0m         \u001b[1;34m'Ix'\u001b[0m \u001b[1;32mif\u001b[0m \u001b[0ma\u001b[0m \u001b[1;33m!=\u001b[0m \u001b[1;34m'-'\u001b[0m \u001b[1;32mand\u001b[0m \u001b[0mb\u001b[0m \u001b[1;33m==\u001b[0m \u001b[1;34m'-'\u001b[0m \u001b[1;32melse\u001b[0m\u001b[1;33m\u001b[0m\u001b[1;33m\u001b[0m\u001b[0m\n",
      "\u001b[1;32m~\\AppData\\Local\\Temp/ipykernel_3252/1063094925.py\u001b[0m in \u001b[0;36m<listcomp>\u001b[1;34m(.0)\u001b[0m\n\u001b[0;32m      7\u001b[0m         \u001b[1;34m'M'\u001b[0m \u001b[1;32mif\u001b[0m \u001b[0ma\u001b[0m \u001b[1;33m!=\u001b[0m \u001b[1;34m'-'\u001b[0m \u001b[1;32mand\u001b[0m \u001b[0mb\u001b[0m \u001b[1;33m!=\u001b[0m \u001b[1;34m'-'\u001b[0m \u001b[1;32melse\u001b[0m\u001b[1;33m\u001b[0m\u001b[1;33m\u001b[0m\u001b[0m\n\u001b[0;32m      8\u001b[0m         \u001b[1;34m'Ix'\u001b[0m \u001b[1;32mif\u001b[0m \u001b[0ma\u001b[0m \u001b[1;33m!=\u001b[0m \u001b[1;34m'-'\u001b[0m \u001b[1;32mand\u001b[0m \u001b[0mb\u001b[0m \u001b[1;33m==\u001b[0m \u001b[1;34m'-'\u001b[0m \u001b[1;32melse\u001b[0m\u001b[1;33m\u001b[0m\u001b[1;33m\u001b[0m\u001b[0m\n\u001b[1;32m----> 9\u001b[1;33m         \u001b[1;34m'Iy'\u001b[0m\u001b[1;33m\u001b[0m\u001b[1;33m\u001b[0m\u001b[0m\n\u001b[0m\u001b[0;32m     10\u001b[0m         \u001b[1;32mfor\u001b[0m \u001b[0ma\u001b[0m\u001b[1;33m,\u001b[0m \u001b[0mb\u001b[0m \u001b[1;32min\u001b[0m \u001b[0mzip\u001b[0m\u001b[1;33m(\u001b[0m\u001b[0mpair\u001b[0m\u001b[1;33m[\u001b[0m\u001b[1;36m0\u001b[0m\u001b[1;33m]\u001b[0m\u001b[1;33m,\u001b[0m \u001b[0mpair\u001b[0m\u001b[1;33m[\u001b[0m\u001b[1;36m1\u001b[0m\u001b[1;33m]\u001b[0m\u001b[1;33m)\u001b[0m\u001b[1;33m\u001b[0m\u001b[1;33m\u001b[0m\u001b[0m\n\u001b[0;32m     11\u001b[0m     ]\n",
      "\u001b[1;31mMemoryError\u001b[0m: "
     ]
    }
   ],
   "source": [
    "#za svaki par napravi string sa stanjima - Ix,Iy,M\n",
    "\n",
    "#stanja = {}\n",
    "#stanja_lista = []\n",
    "#for pair in tqdm(pairs2):\n",
    "#    new_pair = [\n",
    "#        'M' if a != '-' and b != '-' else\n",
    "#        'Ix' if a != '-' and b == '-' else\n",
    "#        'Iy'\n",
    "#        for a, b in zip(pair[0], pair[1])\n",
    "#    ]\n",
    "    \n",
    "#    stanja[pair] = new_pair\n",
    "#    stanja_lista.append(new_pair)\n",
    "\n"
   ]
  },
  {
   "cell_type": "code",
   "execution_count": 10,
   "id": "a44d1ebd",
   "metadata": {},
   "outputs": [
    {
     "ename": "NameError",
     "evalue": "name 'stanja' is not defined",
     "output_type": "error",
     "traceback": [
      "\u001b[1;31m---------------------------------------------------------------------------\u001b[0m",
      "\u001b[1;31mNameError\u001b[0m                                 Traceback (most recent call last)",
      "\u001b[1;32m~\\AppData\\Local\\Temp/ipykernel_1612/772794268.py\u001b[0m in \u001b[0;36m<module>\u001b[1;34m\u001b[0m\n\u001b[1;32m----> 1\u001b[1;33m \u001b[0mlen\u001b[0m\u001b[1;33m(\u001b[0m\u001b[0mstanja\u001b[0m\u001b[1;33m)\u001b[0m\u001b[1;33m\u001b[0m\u001b[1;33m\u001b[0m\u001b[0m\n\u001b[0m",
      "\u001b[1;31mNameError\u001b[0m: name 'stanja' is not defined"
     ]
    }
   ],
   "source": [
    "len(stanja)"
   ]
  },
  {
   "cell_type": "code",
   "execution_count": 25,
   "id": "fcfa599c",
   "metadata": {},
   "outputs": [
    {
     "name": "stdout",
     "output_type": "stream",
     "text": [
      "7 93 0\n"
     ]
    }
   ],
   "source": [
    "prvi_element = [i[0] for i in stanja_lista]\n",
    "broj_M = prvi_element.count('M')\n",
    "broj_Ix = prvi_element.count('Ix')\n",
    "broj_Iy = prvi_element.count('Iy')\n",
    "print(broj_M,broj_Ix,broj_Iy)\n"
   ]
  },
  {
   "cell_type": "markdown",
   "id": "acdd7a1b",
   "metadata": {},
   "source": [
    "#### matrica početnih vjerojatnosti $\\pi$"
   ]
  },
  {
   "cell_type": "code",
   "execution_count": 29,
   "id": "6d13c362",
   "metadata": {},
   "outputs": [
    {
     "data": {
      "text/plain": [
       "[0.07, 0.93, 1e-05]"
      ]
     },
     "execution_count": 29,
     "metadata": {},
     "output_type": "execute_result"
    }
   ],
   "source": [
    "#0-index je M, 1-index je Ix, 2-index je Iy\n",
    "\n",
    "pi = [broj_M/len(prvi_element), broj_Ix/len(prvi_element), broj_Iy/len(prvi_element)]\n",
    "#ako slucajno bude 0 to treba zamjeniti s malom vrijednošću\n",
    "eps = 0.00001\n",
    "pi = [max(vjerojatnost,eps) for vjerojatnost in pi]\n",
    "pi"
   ]
  },
  {
   "cell_type": "markdown",
   "id": "ddb477e4",
   "metadata": {},
   "source": [
    "#### matrica vjerojatnosti prijelaza A"
   ]
  },
  {
   "cell_type": "code",
   "execution_count": 49,
   "id": "2fd062c5",
   "metadata": {},
   "outputs": [
    {
     "data": {
      "text/plain": [
       "array([[0.99723469, 0.00166448, 0.00110083],\n",
       "       [0.0140742 , 0.9859258 , 0.        ],\n",
       "       [0.11846992, 0.        , 0.88153008]])"
      ]
     },
     "execution_count": 49,
     "metadata": {},
     "output_type": "execute_result"
    }
   ],
   "source": [
    "import numpy as np\n",
    "\n",
    "stanja_set = ['M', 'Ix', 'Iy']\n",
    "\n",
    "#inicijalizacija\n",
    "matrica_prijelaza = np.zeros((len(stanja_set), len(stanja_set)))\n",
    "\n",
    "#frekvencije\n",
    "for par in stanja_lista:\n",
    "    for i in range(len(par) - 1):\n",
    "        trenutno_stanje = stanja_set.index(par[i])\n",
    "        sljedece_stanje = stanja_set.index(par[i + 1])\n",
    "        matrica_prijelaza[trenutno_stanje, sljedece_stanje] += 1\n",
    "\n",
    "#normalizacija\n",
    "matrica_prijelaza = matrica_prijelaza/np.sum(matrica_prijelaza, axis=1, keepdims=True)\n",
    "\n",
    "matrica_prijelaza"
   ]
  },
  {
   "cell_type": "code",
   "execution_count": 50,
   "id": "97e9c9de",
   "metadata": {},
   "outputs": [
    {
     "data": {
      "text/plain": [
       "array([[9.97234690e-01, 1.66447727e-03, 1.10083258e-03],\n",
       "       [1.40741970e-02, 9.85925803e-01, 1.00000000e-05],\n",
       "       [1.18469918e-01, 1.00000000e-05, 8.81530082e-01]])"
      ]
     },
     "execution_count": 50,
     "metadata": {},
     "output_type": "execute_result"
    }
   ],
   "source": [
    "#zamijeniti nule s epsilonom\n",
    "matrica_prijelaza = np.where(matrica_prijelaza == 0, eps, matrica_prijelaza)\n",
    "matrica_prijelaza"
   ]
  },
  {
   "cell_type": "markdown",
   "id": "f18f6ee9",
   "metadata": {},
   "source": [
    "#### matrica emisija E"
   ]
  },
  {
   "cell_type": "code",
   "execution_count": null,
   "id": "58aa7dec",
   "metadata": {},
   "outputs": [],
   "source": [
    "#emitirati se mogu parovi AA,AC,AG,AT,CC,CA,CG,CT,GG,GA,GC,GT,TT,TA,TC,TG,A,C,G,T,-(ne znam trebamo li ga kad obrišemo -- slučaj)\n",
    "#stanja M,Ix,Iy"
   ]
  },
  {
   "cell_type": "code",
   "execution_count": 54,
   "id": "73302f4f",
   "metadata": {},
   "outputs": [],
   "source": [
    "emisija = sorted([\"AA\",\"AC\",\"AG\",\"AT\",\"CC\",\"CA\",\"CG\",\"CT\",\"GG\",\"GC\",\"GT\",\"GA\",\"TT\",\"TA\",\"TC\",\"TG\",\"A\",\"G\",\"C\",\"T\"])"
   ]
  },
  {
   "cell_type": "code",
   "execution_count": 59,
   "id": "5a7613b0",
   "metadata": {},
   "outputs": [
    {
     "data": {
      "text/plain": [
       "{('AA-', 'TGA'): ['M', 'M', 'Iy'], ('AC-', 'C-A'): ['M', 'Ix', 'Iy']}"
      ]
     },
     "execution_count": 59,
     "metadata": {},
     "output_type": "execute_result"
    }
   ],
   "source": [
    "#primjer = {(\"AA-\",\"TGA\"):[\"M\",\"M\",\"Iy\"],(\"AC-\",\"C-A\"):[\"M\",\"Ix\",\"Iy\"]}\n",
    "#primjer"
   ]
  },
  {
   "cell_type": "code",
   "execution_count": 63,
   "id": "0642ea37",
   "metadata": {},
   "outputs": [],
   "source": [
    "matrica_emisija = np.zeros((len(stanja_set), len(emisija)))\n"
   ]
  },
  {
   "cell_type": "code",
   "execution_count": 64,
   "id": "efd8bd71",
   "metadata": {},
   "outputs": [
    {
     "name": "stdout",
     "output_type": "stream",
     "text": [
      "AT M\n",
      "AG M\n",
      "A Iy\n",
      "AC M\n",
      "C Ix\n",
      "A Iy\n"
     ]
    },
    {
     "data": {
      "text/plain": [
       "array([[0., 0., 1., 1., 1., 0., 0., 0., 0., 0., 0., 0., 0., 0., 0., 0.,\n",
       "        0., 0., 0., 0.],\n",
       "       [0., 0., 0., 0., 0., 1., 0., 0., 0., 0., 0., 0., 0., 0., 0., 0.,\n",
       "        0., 0., 0., 0.],\n",
       "       [2., 0., 0., 0., 0., 0., 0., 0., 0., 0., 0., 0., 0., 0., 0., 0.,\n",
       "        0., 0., 0., 0.]])"
      ]
     },
     "execution_count": 64,
     "metadata": {},
     "output_type": "execute_result"
    }
   ],
   "source": [
    "for par, stanja in stanja.items():\n",
    "    for i, simbol_stanja in enumerate(stanja):\n",
    "        x,y = par\n",
    "        if x[i] != '-' and y[i] != '-':\n",
    "            par_simbola = x[i] + y[i]\n",
    "        else:\n",
    "            if x[i] == '-':\n",
    "                par_simbola = y[i]\n",
    "            else:\n",
    "                par_simbola = x[i]\n",
    "        print(par_simbola,simbol_stanja)\n",
    "        matrica_emisija[stanja_set.index(simbol_stanja), emisija.index(par_simbola)] += 1\n",
    "matrica_emisija"
   ]
  },
  {
   "cell_type": "code",
   "execution_count": 67,
   "id": "6683427f",
   "metadata": {},
   "outputs": [
    {
     "data": {
      "text/plain": [
       "array([[0.        , 0.        , 0.33333333, 0.33333333, 0.33333333,\n",
       "        0.        , 0.        , 0.        , 0.        , 0.        ,\n",
       "        0.        , 0.        , 0.        , 0.        , 0.        ,\n",
       "        0.        , 0.        , 0.        , 0.        , 0.        ],\n",
       "       [0.        , 0.        , 0.        , 0.        , 0.        ,\n",
       "        1.        , 0.        , 0.        , 0.        , 0.        ,\n",
       "        0.        , 0.        , 0.        , 0.        , 0.        ,\n",
       "        0.        , 0.        , 0.        , 0.        , 0.        ],\n",
       "       [1.        , 0.        , 0.        , 0.        , 0.        ,\n",
       "        0.        , 0.        , 0.        , 0.        , 0.        ,\n",
       "        0.        , 0.        , 0.        , 0.        , 0.        ,\n",
       "        0.        , 0.        , 0.        , 0.        , 0.        ]])"
      ]
     },
     "execution_count": 67,
     "metadata": {},
     "output_type": "execute_result"
    }
   ],
   "source": [
    "matrica_emisija = matrica_emisija/np.sum(matrica_emisija, axis=1, keepdims=True)#zbroj po retcima\n",
    "\n",
    "matrica_emisija"
   ]
  },
  {
   "cell_type": "code",
   "execution_count": 68,
   "id": "b26b5ba7",
   "metadata": {},
   "outputs": [
    {
     "data": {
      "text/plain": [
       "array([[1.00000000e-05, 1.00000000e-05, 3.33333333e-01, 3.33333333e-01,\n",
       "        3.33333333e-01, 1.00000000e-05, 1.00000000e-05, 1.00000000e-05,\n",
       "        1.00000000e-05, 1.00000000e-05, 1.00000000e-05, 1.00000000e-05,\n",
       "        1.00000000e-05, 1.00000000e-05, 1.00000000e-05, 1.00000000e-05,\n",
       "        1.00000000e-05, 1.00000000e-05, 1.00000000e-05, 1.00000000e-05],\n",
       "       [1.00000000e-05, 1.00000000e-05, 1.00000000e-05, 1.00000000e-05,\n",
       "        1.00000000e-05, 1.00000000e+00, 1.00000000e-05, 1.00000000e-05,\n",
       "        1.00000000e-05, 1.00000000e-05, 1.00000000e-05, 1.00000000e-05,\n",
       "        1.00000000e-05, 1.00000000e-05, 1.00000000e-05, 1.00000000e-05,\n",
       "        1.00000000e-05, 1.00000000e-05, 1.00000000e-05, 1.00000000e-05],\n",
       "       [1.00000000e+00, 1.00000000e-05, 1.00000000e-05, 1.00000000e-05,\n",
       "        1.00000000e-05, 1.00000000e-05, 1.00000000e-05, 1.00000000e-05,\n",
       "        1.00000000e-05, 1.00000000e-05, 1.00000000e-05, 1.00000000e-05,\n",
       "        1.00000000e-05, 1.00000000e-05, 1.00000000e-05, 1.00000000e-05,\n",
       "        1.00000000e-05, 1.00000000e-05, 1.00000000e-05, 1.00000000e-05]])"
      ]
     },
     "execution_count": 68,
     "metadata": {},
     "output_type": "execute_result"
    }
   ],
   "source": [
    "#zamijeniti nule s epsilonom\n",
    "matrica_emisija = np.where(matrica_emisija == 0, eps, matrica_emisija)\n",
    "matrica_emisija"
   ]
  }
 ],
 "metadata": {
  "kernelspec": {
   "display_name": "Python 3 (ipykernel)",
   "language": "python",
   "name": "python3"
  },
  "language_info": {
   "codemirror_mode": {
    "name": "ipython",
    "version": 3
   },
   "file_extension": ".py",
   "mimetype": "text/x-python",
   "name": "python",
   "nbconvert_exporter": "python",
   "pygments_lexer": "ipython3",
   "version": "3.9.1"
  }
 },
 "nbformat": 4,
 "nbformat_minor": 5
}
