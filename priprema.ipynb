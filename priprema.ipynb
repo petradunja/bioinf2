{
 "cells": [
  {
   "cell_type": "markdown",
   "id": "6ba9a11f",
   "metadata": {},
   "source": [
    "Priprema podataka\n",
    "- dobivanje parova nizova iz poravnanja višestrukih sekvenci (engl. Multiple sequence alignment)\n",
    "- korištenje podataka ([HIV Sequence Alignments](https://www.hiv.lanl.gov/content/sequence/NEWALIGN/align.html)) za inicijalizaciju matrica u Baum-Welch algoritmu\n"
   ]
  },
  {
   "cell_type": "code",
   "execution_count": 142,
   "id": "83e59a89",
   "metadata": {},
   "outputs": [],
   "source": [
    "import itertools\n",
    "import numpy as np\n",
    "\n",
    "from collections import Counter\n",
    "from collections import defaultdict \n",
    "from tqdm import tqdm"
   ]
  },
  {
   "cell_type": "code",
   "execution_count": 143,
   "id": "b4013ca5",
   "metadata": {},
   "outputs": [
    {
     "name": "stderr",
     "output_type": "stream",
     "text": [
      "Reading FASTA file: 100%|██████████| 1515900/1515900 [00:04<00:00, 312826.30it/s]\n"
     ]
    }
   ],
   "source": [
    "def is_valid_dna_string(input_string):\n",
    "    valid_characters = set('>ACTG-actg')\n",
    "    line_set = set(input_string.lower())\n",
    "    return line_set - valid_characters == set()\n",
    "\n",
    "def read_fasta(file_path):\n",
    "    sequences = []\n",
    "    current_sequence = \"\"\n",
    "    current_header = \"\"\n",
    "\n",
    "    total_lines = sum(1 for line in open(file_path, 'r'))\n",
    "\n",
    "    with open(file_path, 'r') as file:\n",
    "        for line in tqdm(file, total=total_lines, desc=\"Reading FASTA file\"):\n",
    "            line = line.strip()\n",
    "            if line.startswith('>'):\n",
    "                if current_header and is_valid_dna_string(current_sequence): # dodaj sekvencu\n",
    "                    sequences.append(current_sequence)\n",
    "                current_header = line[1:]\n",
    "                current_sequence = \"\"\n",
    "            else:\n",
    "                current_sequence += line\n",
    "\n",
    "    # zadnja sekvenca\n",
    "    if current_header:\n",
    "        sequences.append(current_sequence)\n",
    "\n",
    "    return sequences\n",
    "\n",
    "\n",
    "fasta_file_path = 'HIV1_ALL_2021_genome_DNA.fasta'\n",
    "\n",
    "sequences = read_fasta(fasta_file_path)[:10]  # radi ograničenih resursa zadržat ćemo 500 sekvenci"
   ]
  },
  {
   "cell_type": "code",
   "execution_count": 144,
   "id": "3ad31c15",
   "metadata": {},
   "outputs": [
    {
     "name": "stdout",
     "output_type": "stream",
     "text": [
      "Ukupan broj sekvenci: 10\n",
      "Duljina sekvenci: Counter({14937: 10})\n"
     ]
    }
   ],
   "source": [
    "print(f\"Ukupan broj sekvenci: {len(sequences)}\")\n",
    "print(f\"Duljina sekvenci: {Counter([len(i) for i in sequences])}\")"
   ]
  },
  {
   "cell_type": "code",
   "execution_count": 145,
   "id": "5ca69b58",
   "metadata": {},
   "outputs": [
    {
     "data": {
      "text/plain": [
       "90"
      ]
     },
     "execution_count": 145,
     "metadata": {},
     "output_type": "execute_result"
    }
   ],
   "source": [
    "#napravi sve parove od poravnatih sekvenci (i (x,y) i (y,x))\n",
    "pairs = list(itertools.permutations(sequences, 2))\n",
    "len(pairs)"
   ]
  },
  {
   "cell_type": "code",
   "execution_count": 146,
   "id": "fb90db16",
   "metadata": {},
   "outputs": [],
   "source": [
    "def process_pair(pair):\n",
    "    \n",
    "    prvi = ''.join(a for a, b in zip(pair[0], pair[1]) if a != '-' or b != '-' )\n",
    "    drugi = ''.join(b for a, b in zip(pair[0], pair[1]) if a != '-' or b != '-' )\n",
    "    \n",
    "    novi_prvi = ''.join('' if ((prvi[i] == '-' and i > 0 and drugi[i-1] == '-') or (prvi[i] == '-' and i < (len(drugi) - 1) and drugi[i + 1] == '-')) else prvi[i] for i in range(len(prvi)))\n",
    "    novi_drugi = ''.join('' if ((drugi[i] == '-' and i > 0 and prvi[i-1] == '-') or (drugi[i] == '-' and i < (len(prvi) - 1) and prvi[i + 1] == '-')) else drugi[i] for i in range(len(drugi)))\n",
    "    \n",
    "    return novi_prvi, novi_drugi\n",
    "\n",
    "def get_pair_values(pair):\n",
    "    return [\n",
    "        'M' if a != '-' and b != '-' else\n",
    "        'Ix' if a != '-' and b == '-' else\n",
    "        'Iy'\n",
    "        for a, b in zip(pair[0], pair[1])\n",
    "    ]\n",
    "    \n",
    "def izracunaj_matricu_pocetnih_vrijednosti(elementi):\n",
    "    pi = [\n",
    "        elementi[\"M\"] / sum(elementi.values()), \n",
    "        elementi[\"Ix\"] / sum(elementi.values()), \n",
    "        elementi[\"Iy\"] / sum(elementi.values())\n",
    "    ]\n",
    "    # ako slucajno bude 0 to treba zamjeniti s malom vrijednošću\n",
    "    eps = format(1e-08, '.8f')\n",
    "    pi = [max(vjerojatnost,eps) for vjerojatnost in pi]\n",
    "    return pi\n",
    "\n",
    "def normaliziraj_matricu(matrica):\n",
    "    eps = format(1e-08, '.8f')\n",
    "    matrica = matrica/ np.sum(matrica, axis=1, keepdims=True)\n",
    "    return np.where(matrica == 0, eps, matrica)"
   ]
  },
  {
   "cell_type": "code",
   "execution_count": 147,
   "id": "cddc02a3",
   "metadata": {},
   "outputs": [
    {
     "data": {
      "text/plain": [
       "'----------------------------------------------------------------------------------------------------------------------------------------------------------------------------------------------------------------------------------------------------------------------------------------------------------------------------------------------------------------------------------------------------------------------------------------------------------------------------------------------------------------------------------------------------------------------------------------------------------------------------------------------------------------------------------------------------------------------------------------------------------------------------------------------------------------------------------------------------------------------------------------------------------------------------CTCTAGCAGTGGCG------------------------CCCGA------------------------------------------------------------------------ACAGGGACCTGAAAGCGAAAGTTCCAGAGAA-----------GTTCTCTCGACGCA--GGACTCGGCTTGCT------GAGGTGCACACAGCAA-----GAGGC-------------GA-G-AG--CGGC-----GACTGGTGAGTACGCC-----------------------TGAATTTTTTGACT----------AGC-GGA-GG---------CTAGA------------A--G--------------GA-G-A-G--AG-------------------------------ATGGGTGCGAGAGCGTCAGTA---TTAAGT---GGG---GGAAAA---TTAGATGCATGGGAGAAAATTCGGTTA---AGG------CCA---GGGGGAAAG---AAAAAATATAGA---CTG---AAACATTTAGTATGGGCAAGCAGG---GAGCTGGAAAGATTTGCACTTAACCCTAGCCTG------------TTAGAAACA---ACAGAA---GGATGTCAACAAATACTGCAACAATTACAACCAGCT---CTTAAC---ACAGGAACAGAAGATATTAAATCATTATATAATACAGTA---GCCACCCTCTATTGCGTACATCGGCGGATA---GAGGTAAAAGACACCAAAGAGGCTTTAGATAAAATAGAGGAAATACAAAAAGACAGCAAG------------------------CAAAAGACACAGCAGGCAGCAGCT---------------------GACACAGGA------------------AGT---AGCAGCAAA------------------------GTCAGCCAAAATTACCCTGTA------------GTGCAAAAT---GCACAA---GGGCAAATGACACAC---CAGAGT---TTATCACCTAGGACT---TTGAATGCA---TGGGTGAAAGTAATA---GAAGAA---AAG---------GCTTTTAGCCCA------GAAGTAATACCCATG---TTCTCAGCA---TTATCAGAAGGAGCCACCCCAACAGAT---TTAAATATGATGCTGAACATAGTG---GGGGGACACCAG---GCAGCTATGCAAATG---TTAAAAGAT---ACCATCAATGAG---GAAGCT---GCAGAATGGGAC---AGG---TTACAT---CCAATACATGCA---GGGCCTGTTCCACCAGGCCAAATG---AGAGAACCA---AGGGGAAGTGACATAGCAGGAACTACTAGTACC---ACTCAAGAACAAATAGGATGGATGACA---------AGCAATCCA---CCT---ATC---CCAGTG---GGAGACATCTATAAAAGATGGATAATCCTGGGATTAAATAAAATAGTAAGAATGTATAGCCCTGTTAGCATTCTGGACATAAAACAAGGG---CCGAAAGAACCCTTCAGAGACTATGTAGATAGGTTCTTCAAAACTCTCAGAGCTGAGCAAGCTACACAGGAGGTAAAA---GGTTGGATGACAGAAACCCTGCTGGTCCAA---AATGCAAATCCAGATTGTAAGTCCATCTTAAGAGCATTAGGAGCAGGGGCTACATTGGAAGAAATGATG------------------------ACAGCATGCCAGGGAGTG---GGAGGA---CCCGGCCATAAA---GCAAGGGTTTTGGCTGAG------GCAATG---AGTCAAGCACAG------------------------CAAACAAACATA---ATGATG------CAAAGAGGCAAT---------TTT---AGGGGCCAGAGAAAA---------ATTAAATGTTTCAACTGT---GGCAAAGAGGGA---CAT---CTA---GCC---AAAAATTGCAGGGCCCCTAGG------AAAAGA---GGCTGTTGGAAATGTGGG---AAGGAGGGA---CACCAAATGAAAGACTGC---------------ACTGAAAGACAGGCTAATTT-TTT---AGGGAAAATTTG---GCC---TTCCCACAA---------GGG---GAG---GCCAGGAAATTTTCCCCAGAGCAGACCAGAGCCAACAGC------------------------------------------------------CCCTCCAGC------AGAAATCTGTGGCAT------------------GGGGGAAGAGAT---AGC---CTCCCC---------------------------------------TCCGAA---------------GCAGGA---------------------------------------------------GCA------------GCAGGC---CCCACCTTT------AGTTTCCCTCAAATCACTCTTTGGCAACGACCTCTTGTCACAGTAAAG---ATAGGAGGA---CAACTAAAAGAAGCTCTATTA---GATACAGGAGCAGATGATACAGTATTA---GAA------GAT------ATAAATTTG---CCAGGG---AAATGGAAACCAAAA---ATGATAGGGGGAATTGGAGGTTTTATTAAAGTA---AAACAATAT---GAGCAGATACCTATAGAAATTTGTGGG---AAAAAGGCTATA---GGTACAGTACTGATAGGA---CCTACCCCAGTC------AAC---ATAATGGAAGAA---ATGTTGACCCAGATTGGCTGTACTTTAAATTTT---CCAATTAGTCCTATTAAGACTGTACCAGTAGTATTAAAACCAGGAATG---GATGGCCCAAAGGTTAAACAA---TGGCCATTGACAGAAGAA---AAAATAAAAGCATTAACAGAAATTTGTACA------GACATGGAA---AAGGAAGGAAAGATTTCA---AAA---ATTGGGCCT---GAAAATCCATACAATACTCCAGTA---TTTGCTATAAAGAAA---AAAGACAGC------------ACTAAA---------TGGAGG---AAATTAGTAGATTTCAGAGAGCTAAATAAA---AGAACTCAGGATTTCTGGGAA---GTTCAA------TTA---GGAATA---------------------------CCGCATCCAGCAGGTCTA---AAA------CAG---AAA---AAA------TCAGTAACAGTACTAGATGTAGGGGATGCATAT---TTTTCAATTCCTTTA---GATGAAAACTTTAGA---AAGTATACTGCATTCACCATACCTAGCACAAATAATGAGTTACCAGGAATCAGGTATCAGTACAATGTGCTTCCACAAGGATGGAAAGGATCACCAGCAATATTCCAAGCT---------AGCATG---ACAAAAATCTTAGAGCCCTTTAGATCA---CAAAATCCAGACATAATTATTTATCAATACATGGATGACTTGTATGTAGGATCTGATTTAGAAATA---GGGCAG---CATAGA---ACAAAAATAGAGGAGTTGAGAGCTCATCTATTGAGTTGGGGGTTGACT---ACACCAGACAAAAAA---CATCAGAAAGAACCTCCATTCCTTTGGATGGGGTATGAACTA---CACCCTGACAAATGGACAGTCCAG---CCTATACAGCTGCCAGAA---AAAGAC---AGCTGG---ACTGTCAATGATATA---CAG---AAATTAGTGGGAAAACTGAATTGG------------------GCAAGTCAGATTTAT---GCAGGGATTAAAGTA---AAGCAGCTGTGTAAACTA---CTCAGGGGAACCAAAGCACTAACAGAAGTA---GTAACACTGACTGAGGAA---GCAGAATTAGAATTG---GCAGAGAACAGG---GAGATTCTAAAAGACCCTGTGCATGGAGTATATTATGACCCAACAAAAGACTTAATAGCAGAAATACAGAAACAAGGGCAA---GACCAATGGACATAT---CAAATTTATCAAGAACCATTT---AAGAATCTGAAA---ACAGGA---AAATATGCAAGAAAG---AGGTCTGCCCACACTAATGATGTA------AAGCAATTAGCAGAAGTGGTGCAAAAAGTGGTCACAGAAAGCATAGTGATATGGGGAAAG---ACTCCTAGATTTAAACTACCCATACAAAAAGAAACATGGGAAACA---------TGGTGGACGGACTATTGGCAGGCTAACTGGATTCCTGAA---TGGGAG------------------TTTGTCAATACCCCTCCCCTAGTAAAGTTATGGTACCAGTTAGAAAAA---------------------------------GACCCTATAGCAGGAACAGAG---ACTTTTTATGTAGATGGGGCAGCTAAT---AGGGAAACTAAGTTAGGAAAA---GCAGGGTATGTCACTGACAGAGGAAGACAAAAG---GTTGTTTCCCTAACTGAAACAACAAATCAAAAAACAGAATTACATGCTATCCTTCTAGCATTACAGGATTCA---GGATCAGAAGTAAATATAGTAACAGACTCGCAGTATGCATTAGGAATCATT---CAAGCCCAACCAGATAGAAGTGACTCAGAACTAGTC---AAT---CAAATAATAGAG---AAGCTAATAGAGAAG---GATAAA---ATCTACCTATCATGGGTACCAGCACACAAGGGAATT---GGAGGAAATGAA---CAAGTAGATAAATTAGTCAGTGCCGGA---GTCAGGAGGGTGCTA---TTTTTAGAT---GGG---ATAGAT---AAAGCTCAA---GAA---GATCATGAAAAATATCACAGCAATTGGAGAACC---ATGGCTAGTGAT---TTTAATCTG---CCACCTATAGTA---GCAAAGGAA---ATAGTAGCC---AGCTGTGATAAATGT---CAACTAAAAGGGGAA---GCCATGCATGGACAAGTAGACTGTAGTCCAGGAATATGGCAATTAGAT---TGCACACATCTGGAAGGAAAAGTAATCCTGGTA---GCAGTCCATGTAGCCAGTGGCTATCTAGAA---GCAGAAGTTATCCCAGCAGAAACAGGACAGGAGACAGCATACTTTCTG---CTAAAGTTAGCA---GGAAGATGG---CCAGTAAAAGTAGTACAC------ACAGACAATGGCAGCAATTTCACCAGTGCTGCATTTAAAGCAGCT---TGTTGGTGGGCAAGTATCCAA---CAGGAATTTGGAATTCCCTACAATCCCCAAAGTCAAGGAGTAGTGGAATCTATGAATAAAGAATTA---AAGAAAATCATAGGACAGGTAAGAGAGCAAGCTGAACACCTTAAGACAGCAGTCCAAATGGCAGTATTCATTCAC---------AATTTT---AAAAGA---AAA---GGGGGG---ATTGGGGGG---------------------------------------------------------------TACAGTGCAGGGGAAAGAATAATAGACATAATAGCAACAGACATACAAACTAAAGAATTACAAAAACAAATTACAAAA---ATTCAA---------AATTTTCGGGTTTAT---TACAGGGACAGCAGAGATCCAATTTGGAAAGGACCAGCAAAACTACTT---TGGAAAGGTGAAGGGGCAGTGGTAATACAG------------------GACAAT------CAGGATATAAAGGTAGTGCCAAGAAGAAAAGCA---AAGATC---ATTAGGGAT---TATGGAAAACAGATGGCA---GGTGATGATTGTGTG---GCA------GGTAGACAGGATGAGGATTAG--AACATGGAACAGTTTAGTAAAACACCATATGTATGTCTCAAAGAAAGCT---AAAGATTGGTTTTACAGACATCACTATGAAAGC---AGACAC---CCAAAGGTAAGT---------TCAGAAGTACACATCCCACTAGGG---------------------GATGCT---AGATTAGTAGTAAGAACATAC---TGGGGACTGCATACAGGAGAAAAA---GATTGGCAC---CTGGGTCATGGGGTCTCCATAGAATGGAGG---CTACGAAGATATAGCACACAA---ATAGATCCTGACCTGGCAGACCAACTA---ATTCATCTGCATTATTTTAACTGTTTTTCAGACACT---GCCATAAGGAAAGCCATATTAGGACAAATAGTT---AGCCCTAGCTGTGAATATCAATCAGGACATAAT------AAGGTAGGATCTCTACAATATTTGGCA------------CTGAAAGCA---CTAGTAGCA---------------CCAACA------------AGGACAAGG---CCACCCTTG---CCAAGTGTT------------AGGAAATTAGCAGAGGATAGA------TGGAACAAGCCCCAGAAGACCAGGGGCCACAGAGGGAGCCATACAGTGAATGGATGCTAG-AACTGTTAGAAGAGCTTAAACATGAAGCTGTAAGA---CATTTTCCTAGGCCATGGCTTCATGGATTAGGAGAACATATCTATAACACCTATGGAGATACT---TGGGAAGGAGTTGAAGCTATAATA---AGAATATTGCAA---CAACTACTGTTTGTCCAT---TTCAGAATTGGGTGC---CAACATAGCAGAATAGGCATC---------------ATTCGA---------------GGGAGGAGAAGAGTCAGG------GATGGATCCGGT------AGATCCTAA--CCTAGAGCCCTGGAAC---CACCCGGGAAGTCAGCCTACAACT---CTATGTAGCAAGTGCTAC------TGTAAAGTGTGTTGCTATCATTGTCAA---------------GCTTGTTTTCTGCGCAAAGCCTTA---------GGCATCTCCTATGGCAGGAAGAAA---------CGAAAG------CAGCGACGA---GGGACTCCTCACAGCAGTAAGGATCATCAAAAT---CCTGTACCAGAGCA--GTAAGTAGTAC---------------------------------------ATGTA-ATG------------------------------------------CTTCCTTTGGAAATC------TGTAGCAATAGTAGGACTG--ATAGTGGCG---CTAATCCTAGCAATAGTTGTGTGGACTATA---------------------GTAGGTATAGAATATAAG------------------------------------AGATTGCAAAAGCAAAAAGAAAAT--AGATAGGATAATTGAGAGGATAAGAGAA---------------------------------AGAGCAGAAGACAGT---GGC---A--------------ATGAAAGTGATGGGG---------ATACAGAGGAAT---TAT---------CAA---AACTGG------TGG---------------------------------------------------------AAATGGGGAATTATA------ATCTTGGGG------ATG---ATAATAATTTGT------------------------------AGTGCTGTA------GAAAAGCTGTGGGTTACTGTCTACTATGGG------------------GTGCCTGTATGG---AGAGACGCAGAT---ACTACC------------TTGTTTTGTGCCTCAAATGCGAGAGCATATGATACA---GAAAAG---CATAATGTC---TGGGCTACACATGTATGTGTGCCCACAGAC---CCCAACCCACAAGAAATA---GATTTG------GAAAATGTGACAGAGAAATTTAACATGTGGAAAAATAACATGGTGGAGCAAATGCAT---ACAGATATAATCAGTCTATGGGATCAAAGCCTAAAG---CCA---TGT---GTACAGTTAACC------CCTCTC---TGTGTCACT---------TTAAAT---TGTAGTGACACCACCAATACCAATGCCACCACCAATACC------------------------------------------------------------------------------------------------AATGCCACCACCAATATGACTGGTGGGAATTTAATGAAAAACTGCTCTTTCAATACAACC---------------------ACAGAAATAAGGGATAGGACACAGAAAGTGCACTCACTTTTTTATAAGCTTGATATA---GTACCA---ATTAATGAA---------------------------------------------------------------------------------------------------AATAGTAATAGCAGC---CAG---TAT---ATA---TTAATACATTGTAATACC---TCAACC---ATT------ACACAA------GCTTGT---CCAAAG------GTAACCTTTGAG---CCAATTCCC---ATACATTAC------TGTGCTCCAGCT------GGGTTTGCGATTCTA------AAG---TGT---AAGGATCCA---GAGTTC---AAT---GGA---ACAGGGCTG---------TGCAAG---AATGTC---AGCACAGTA------CAATGCACACAT---GGAATCAAGCCAGTA---------GTATCA---ACGCAA---CTGCTACTA---------AATGGCAGT---CTAGCA---GAA---AAAAGG------------------------------------GTAATGATTAGATCTGAAAATATCACAAACAATGCCAAAAAC---ATA---ATAGTA------CAACTTAAG------CAG------CCTGTAAGAATTAATTGTACCAGACCTAGCAACAAT------ACACTT---AAA------AGG---ATACATATAGGACCAGGACGA---GCA------TTC---GTT---------------------GCAACA---AAAGCC------------------ATAATAGGAAATATAAGACAAGCACACTGTAATGTCAGT---------------------AGAGCAGACTGGAAT---ACAGCT---TTACAAGAAGTA---GTTGAA---CAATTAGGA------AAACATTTTAAG---------------------------------AACAAAACAATAATATTT------------------AAG---AGCTCC------TCAGGA---------GGGGATTTAGAAATTACAACACATAGTTTTAATTGTGCA---GGAGAATTTTTCTATTGTAATACA---TCAGGC---CTGTTTAATAGCACTTGGAATGAGACTAATGGCAAT---------------------------------------------------------TGGAGCCAGGGAAATGACACTGAAAGTGCCAATATAACTCTCCGATGCCGC---ATAAAGCAAATTATAAGGATGTGGCAG---------------------------AGAACAGGACAAGCAATGTATGCCCCTCCCATCGAAGGAGTAATAAGG------TGTGAT---TCA---AAT---ATT---------------ACAGGACTC---CTA---TTAACA------------AGAGATGGGGGA------------------------------------------AGTAAAAATCAGAGTAATGACACCAATGAGATC---------TTCAGACCTGGAGGAGGAGATATGAAGGACAATTGGAGA------AGTGAA---TTATAT---AAA---TATAAA---GTAGTA------GAAATT---GAACCA---CTA---GGAATAGCACCC------TCC---AGGGCAAAGAGA---AGA---GTG---GTG---------------CAG---AGAGAAAAAAGA---GCAGTT------GGA------ATA---GGA------GCT---GTC---CTCATT---GGG---TTCTTAGGAGCAGCA---GGAAGC---------ACTATG---GGCGCAGCGTCA---ATAACGCTGACGGCACAGGCC---AGA------CAG---TTAATG---TCTGGCATA---GTGCGA---CAGCAA---AGCAATTTG---CTGAGG---GCTATAGAG------GCTCAACAG------CAACTG---TTGAAACTCACAGTCTGGGGCATTAAACAG---CTCCAG---GCAAGAATCCTGGCTGTGGAAAGATACCTAAAG---GATCAACAGCTCCTA---GGAATTTGG------GGCTGCTCTGGAAAA---CTCATCTGC------ACCACTAATGTGCCCTGGAACTCT---AGT---TGG---------------------------------------AGTAATAGGACTCACGATCAGATATGG---------GGG---AACATGACCTGG---CTACAA---TGG---GAT---AAAGAAGTTAGC---AATTACACACAAGAAATATATAAACTAATTGAAGAATCACAG---GTCCAACAGGAA---CAGAATGAGAGGGAC---TTA---------------TTGGCATTGGACAAGTGG---GCA---ACTTTGTGGAATTGGTTT---GATATATCAAATTGGCTGTGGTATATA---AGAATATTTATAATGATAGTAGGA---GGCTTAATAGGATTA---AGAATAGTT---TTTGCTGTGCTTTCTATAATA---------AATAGAGTTAGGCAGGGATACTCA---CCT---CTGTCA---TTTCAG---ACCCTT---ACCCCAAAC---------------CCA---AGGGGA------CTCGACAGG------CCCGGAGAAATCGAAGAAGAAGGT---GGA---------GAGCAAGAC---------AGAGGCAGATCG---ATTCGA------------TTAGTGAGCGGA---TTCTTAGCA---CTTGCCTGGGAGGATCTGCGGAACCTGAGCCTC------------TTC------------AGCTAC---CGCCGATTGAGAGAC---TTCATCTTG------ATTGCAGCGAGGACTGTGGAA---CTT---CTG---GGACACAGCAGTCTCAAGGGACTGAGA------------------------CTGGGGTGG------GAAGGCCTCAAG---TATCTG---------TGGAATCTCCTGTTGTATTGGGGTCAGGAACTAAAGACTAGTGCT---GTTAATTTGATTAATACCATAGCAATAACAATAGCTGGC---TGGACAGATAGAATTATAGAAATAGGACAGAGAGTTTTTAGA------GCTATTATTAACATACCTACA---AGAATT------AGACAGGGATTCGAAAGGGCT------TTG------------CTA---TAA------------------------------------------C--ATGGGAGGCAAATGGTCAAAA---------AGCAGCATA---GTG---GGATGGCCTAAGATCAGGGAAAGAATGAGACAAGCT------------------------------------------------------------CCCCCAGCA------------------------------GCAACAGGAGTAGGAGAA---GTATCTCAAGATTTAGATAAACATGGAGCAATCACAAGCAGTAAT------ATAAATCACCCTAGT------TGCGTCTGGGTGCAAGCG---------CAAGAGGAA------------GAGGAGGAGGTAGGCTTTCCAGTCAGGCCACAGGTACCTTTAAGGCCAATGACTTACAAAGGAGCTTTA------GATCTCAGCCATTTTTTAAAAGAAAAGGGGGGACTGGAAGGGTTT--AATTTACTCAAAGAAA---AGACAAGAAATC---------CTGGAGTTGTGGGTCTA-CACACA---CAA---GGATACTTC---CCTGATTGGCAG---AATTACACACCAGGGCCGGGG---GTCAGATACCCA---CTAACATTTGGATGGTGCTTCAAGCTAGTACCAGTTGATCCA-GGGAA---GTAGAGAAA---------------------------------GATACTGAGGGA------GAGAACAACAGCCTATTACACCCTATATGCCAACATGGAATGGAGGATGAT---GCAAGA---GAGACATTAGTATGGAAGTTTGACAGCCACCTGGCC---TTCAGACACACGGCCCGAGAGCTGCAT---CCGGAGTTC------------------------TACAAAGACTGCTGAC-----------------------------------------ACAGAAGTT-----------------------------------GCTGACA--------------------------------------------GGGACTTTCC-----------------GCTG-------------------------------------------------GGGACTTTCC--------------------------------------------------------------------------------AGGGGAGGT---------------GTGGTT-TGGGCGGAGAT-----------GGGG-AGTG-GC-TAGCCT--CAAG-A-----TGCTGCAT--ATAAGCAG-C-TGCTTTT-T-GC-C-TG-TA--C--------------------------------------------------------------------------------------------------------------------------------------------------------------------------------------------------------------------------------------------------------------------------------------------------------------------------------------------------------------------------------------------------------------------------------------------------------------------------------------------------------------------------------------------------------------------------------------------------------------------------------------------------------------------------------------------------------------------------------------------------------------------------------------------------------------------------------------------------------------------------------------------------------------------------------------------------------------------------'"
      ]
     },
     "execution_count": 147,
     "metadata": {},
     "output_type": "execute_result"
    }
   ],
   "source": [
    "pairs[7][1]"
   ]
  },
  {
   "cell_type": "code",
   "execution_count": 148,
   "id": "3e2b4ef1",
   "metadata": {},
   "outputs": [
    {
     "name": "stderr",
     "output_type": "stream",
     "text": [
      "100%|██████████| 90/90 [00:08<00:00, 10.26it/s]\n"
     ]
    }
   ],
   "source": [
    "stanja_set = ['M', 'Ix', 'Iy']\n",
    "emisija = sorted([\"A\", \"AA\", \"AC\", \"AG\", \"AT\", \"C\", \"CA\", \"CC\", \"CG\", \"CT\", \"G\", \"GA\", \"GC\", \"GG\", \"GT\", \"T\", \"TA\", \"TC\", \"TG\", \"TT\"])\n",
    "prvi_element_brojac = defaultdict(int)\n",
    "\n",
    "matrica_prijelaza = np.zeros((len(stanja_set), len(stanja_set)))\n",
    "matrica_emisija = np.zeros((len(stanja_set), len(emisija)))\n",
    "\n",
    "\n",
    "# for pair in itertools.permutations(sequences, 2):  # ukoliko zelimo izbjeci spremanje svih permutacija sekvenci u memoriju (maknuti varijablu pairs)\n",
    "for pair in tqdm(pairs):\n",
    "    \n",
    "    processed_pair = process_pair(pair)\n",
    "    pair_values = get_pair_values(processed_pair)\n",
    "    \n",
    "    prvi_element_brojac[pair_values[0]] += 1\n",
    "    \n",
    "    for i in range(len(pair_values) - 1):\n",
    "        trenutno_stanje = stanja_set.index(pair_values[i])\n",
    "        sljedece_stanje = stanja_set.index(pair_values[i + 1])\n",
    "        matrica_prijelaza[trenutno_stanje, sljedece_stanje] += 1\n",
    "        \n",
    "    \n",
    "    for i, simbol_stanja in enumerate(pair_values):\n",
    "        x,y = processed_pair\n",
    "   \n",
    "        if x[i] != '-' and y[i] != '-':\n",
    "            par_simbola = x[i] + y[i]\n",
    "        else:\n",
    "            if x[i] == '-':\n",
    "                par_simbola = y[i]\n",
    "            else:\n",
    "                par_simbola = x[i]\n",
    "    \n",
    "        try:\n",
    "            matrica_emisija[stanja_set.index(simbol_stanja), emisija.index(par_simbola)] += 1\n",
    "        except ValueError:#bio je Y ili neki drugi znak u sekvenci\n",
    "            continue\n",
    "    \n",
    "    \n",
    "\n"
   ]
  },
  {
   "cell_type": "code",
   "execution_count": 149,
   "id": "2998fbae",
   "metadata": {},
   "outputs": [
    {
     "data": {
      "text/plain": [
       "[0.13333333333333333, 0.43333333333333335, 0.43333333333333335]"
      ]
     },
     "execution_count": 149,
     "metadata": {},
     "output_type": "execute_result"
    }
   ],
   "source": [
    "pi = izracunaj_matricu_pocetnih_vrijednosti(prvi_element_brojac)\n",
    "pi"
   ]
  },
  {
   "cell_type": "code",
   "execution_count": 150,
   "id": "06ee1f0a",
   "metadata": {},
   "outputs": [],
   "source": [
    "#pi2 = [0.07368336673346694, 0.4631583166332665, 0.4631583166332665]\n",
    "#pi2"
   ]
  },
  {
   "cell_type": "code",
   "execution_count": 151,
   "id": "01fc4112",
   "metadata": {},
   "outputs": [
    {
     "data": {
      "text/plain": [
       "array([[9.97719354e-01, 1.14032286e-03, 1.14032286e-03],\n",
       "       [3.29081359e-02, 9.67091864e-01, 1.00000000e-08],\n",
       "       [3.29081359e-02, 1.00000000e-08, 9.67091864e-01]])"
      ]
     },
     "execution_count": 151,
     "metadata": {},
     "output_type": "execute_result"
    }
   ],
   "source": [
    "A = normaliziraj_matricu(matrica_prijelaza)\n",
    "A"
   ]
  },
  {
   "cell_type": "code",
   "execution_count": 152,
   "id": "7b13f58a",
   "metadata": {},
   "outputs": [],
   "source": [
    "#A2 = np.array([[9.97843253e-01, 1.07837332e-03, 1.07837332e-03],\n",
    "#       [4.12591903e-02, 9.58740196e-01, 6.13427300e-07],\n",
    "#       [4.12591903e-02, 6.13427300e-07, 9.58740196e-01]])\n",
    "#A2"
   ]
  },
  {
   "cell_type": "code",
   "execution_count": 153,
   "id": "1dfe5825",
   "metadata": {},
   "outputs": [
    {
     "data": {
      "text/plain": [
       "array([[1.00000000e-08, 3.25486147e-01, 7.20088946e-03, 2.26228769e-02,\n",
       "        5.17780601e-03, 1.00000000e-08, 7.20088946e-03, 1.53685008e-01,\n",
       "        2.75976317e-03, 1.25260314e-02, 1.00000000e-08, 2.26228769e-02,\n",
       "        2.75976317e-03, 2.12621862e-01, 3.52491958e-03, 1.00000000e-08,\n",
       "        5.17780601e-03, 1.25260314e-02, 3.52491958e-03, 2.00582410e-01],\n",
       "       [2.78134589e-01, 1.00000000e-08, 1.00000000e-08, 1.00000000e-08,\n",
       "        1.00000000e-08, 2.15478484e-01, 1.00000000e-08, 1.00000000e-08,\n",
       "        1.00000000e-08, 1.00000000e-08, 2.78312995e-01, 1.00000000e-08,\n",
       "        1.00000000e-08, 1.00000000e-08, 1.00000000e-08, 2.28073931e-01,\n",
       "        1.00000000e-08, 1.00000000e-08, 1.00000000e-08, 1.00000000e-08],\n",
       "       [2.78134589e-01, 1.00000000e-08, 1.00000000e-08, 1.00000000e-08,\n",
       "        1.00000000e-08, 2.15478484e-01, 1.00000000e-08, 1.00000000e-08,\n",
       "        1.00000000e-08, 1.00000000e-08, 2.78312995e-01, 1.00000000e-08,\n",
       "        1.00000000e-08, 1.00000000e-08, 1.00000000e-08, 2.28073931e-01,\n",
       "        1.00000000e-08, 1.00000000e-08, 1.00000000e-08, 1.00000000e-08]])"
      ]
     },
     "execution_count": 153,
     "metadata": {},
     "output_type": "execute_result"
    }
   ],
   "source": [
    "E = normaliziraj_matricu(matrica_emisija)\n",
    "E"
   ]
  },
  {
   "cell_type": "code",
   "execution_count": 154,
   "id": "a4002ddf",
   "metadata": {},
   "outputs": [],
   "source": [
    "#E2 = np.array([[1.00000000e-08, 3.25734397e-01, 8.15964895e-03, 2.39453468e-02,\n",
    "#        5.72147873e-03, 1.00000000e-08, 8.15964895e-03, 1.50013314e-01,\n",
    "#        3.06291168e-03, 1.39968051e-02, 1.00000000e-08, 2.39453468e-02,\n",
    "#        3.06291168e-03, 2.08718026e-01, 3.67871353e-03, 1.00000000e-08,\n",
    "#        5.72147873e-03, 1.39968051e-02, 3.67871353e-03, 1.98404453e-01],\n",
    "#       [2.90796102e-01, 1.00000000e-08, 1.00000000e-08, 1.00000000e-08,\n",
    "#        1.00000000e-08, 2.18200828e-01, 1.00000000e-08, 1.00000000e-08,\n",
    "#        1.00000000e-08, 1.00000000e-08, 2.74978179e-01, 1.00000000e-08,\n",
    "#        1.00000000e-08, 1.00000000e-08, 1.00000000e-08, 2.16024890e-01,\n",
    "#        1.00000000e-08, 1.00000000e-08, 1.00000000e-08, 1.00000000e-08],\n",
    "#       [2.90796102e-01, 1.00000000e-08, 1.00000000e-08, 1.00000000e-08,\n",
    "#        1.00000000e-08, 2.18200828e-01, 1.00000000e-08, 1.00000000e-08,\n",
    "#        1.00000000e-08, 1.00000000e-08, 2.74978179e-01, 1.00000000e-08,\n",
    "#        1.00000000e-08, 1.00000000e-08, 1.00000000e-08, 2.16024890e-01,\n",
    "#        1.00000000e-08, 1.00000000e-08, 1.00000000e-08, 1.00000000e-08]])\n",
    "#E2"
   ]
  },
  {
   "cell_type": "code",
   "execution_count": 155,
   "id": "bbea688f",
   "metadata": {},
   "outputs": [],
   "source": [
    "\n",
    "with open(\"datoteka.txt\", \"w\") as file:\n",
    "    file.write(\"M\\n\")\n",
    "    file.write(\"20\\n\")\n",
    "    file.write(\"N\\n\")\n",
    "    file.write(\"3\\n\")\n",
    "    file.write(\"STANJA\\n\")\n",
    "    for stanje in stanja_set:\n",
    "        file.write(stanje + \" \")\n",
    "    file.write(\"\\nSIMBOLI\\n\")\n",
    "    for par in emisija:\n",
    "        file.write(par + \" \")\n",
    "    file.write(\"\\nA\\n\")\n",
    "    for red in A:\n",
    "        file.write(\" \".join(map(str, red)) + \"\\n\")\n",
    "    file.write(\"E\\n\")        \n",
    "    for red in E:\n",
    "        file.write(\" \".join(map(str, red)) + \"\\n\")\n",
    "    file.write(\"pi\\n\")\n",
    "    for value in pi:\n",
    "        file.write(str(value) + \" \")\n",
    "\n"
   ]
  },
  {
   "cell_type": "markdown",
   "id": "034161bb",
   "metadata": {},
   "source": [
    "#### matrica emisija E"
   ]
  },
  {
   "cell_type": "code",
   "execution_count": 156,
   "id": "ff68bdb7",
   "metadata": {},
   "outputs": [],
   "source": [
    "#emitirati se mogu parovi AA,AC,AG,AT,CC,CA,CG,CT,GG,GA,GC,GT,TT,TA,TC,TG,A,C,G,T,-(ne znam trebamo li ga kad obrišemo -- slučaj)\n",
    "#stanja M,Ix,Iy"
   ]
  },
  {
   "cell_type": "code",
   "execution_count": 157,
   "id": "59516af2",
   "metadata": {},
   "outputs": [],
   "source": [
    "emisija = sorted([\"A\", \"AA\", \"AC\", \"AG\", \"AT\", \"C\", \"CA\", \"CC\", \"CG\", \"CT\", \"G\", \"GA\", \"GC\", \"GG\", \"GT\", \"T\", \"TA\", \"TC\", \"TG\", \"TT\"])"
   ]
  },
  {
   "cell_type": "code",
   "execution_count": 159,
   "id": "53a93b7d",
   "metadata": {},
   "outputs": [],
   "source": [
    "matrica_emisija = np.zeros((len(stanja_set), len(emisija)))"
   ]
  },
  {
   "cell_type": "code",
   "execution_count": null,
   "id": "0a622727",
   "metadata": {},
   "outputs": [
    {
     "data": {
      "text/plain": [
       "array([[0.        , 0.        , 0.33333333, 0.33333333, 0.33333333,\n",
       "        0.        , 0.        , 0.        , 0.        , 0.        ,\n",
       "        0.        , 0.        , 0.        , 0.        , 0.        ,\n",
       "        0.        , 0.        , 0.        , 0.        , 0.        ],\n",
       "       [0.        , 0.        , 0.        , 0.        , 0.        ,\n",
       "        1.        , 0.        , 0.        , 0.        , 0.        ,\n",
       "        0.        , 0.        , 0.        , 0.        , 0.        ,\n",
       "        0.        , 0.        , 0.        , 0.        , 0.        ],\n",
       "       [1.        , 0.        , 0.        , 0.        , 0.        ,\n",
       "        0.        , 0.        , 0.        , 0.        , 0.        ,\n",
       "        0.        , 0.        , 0.        , 0.        , 0.        ,\n",
       "        0.        , 0.        , 0.        , 0.        , 0.        ]])"
      ]
     },
     "execution_count": 67,
     "metadata": {},
     "output_type": "execute_result"
    }
   ],
   "source": [
    "matrica_emisija = matrica_emisija/np.sum(matrica_emisija, axis=1, keepdims=True)#zbroj po retcima\n",
    "\n",
    "matrica_emisija"
   ]
  },
  {
   "cell_type": "code",
   "execution_count": null,
   "id": "f15d24d8",
   "metadata": {},
   "outputs": [
    {
     "data": {
      "text/plain": [
       "array([[1.00000000e-05, 1.00000000e-05, 3.33333333e-01, 3.33333333e-01,\n",
       "        3.33333333e-01, 1.00000000e-05, 1.00000000e-05, 1.00000000e-05,\n",
       "        1.00000000e-05, 1.00000000e-05, 1.00000000e-05, 1.00000000e-05,\n",
       "        1.00000000e-05, 1.00000000e-05, 1.00000000e-05, 1.00000000e-05,\n",
       "        1.00000000e-05, 1.00000000e-05, 1.00000000e-05, 1.00000000e-05],\n",
       "       [1.00000000e-05, 1.00000000e-05, 1.00000000e-05, 1.00000000e-05,\n",
       "        1.00000000e-05, 1.00000000e+00, 1.00000000e-05, 1.00000000e-05,\n",
       "        1.00000000e-05, 1.00000000e-05, 1.00000000e-05, 1.00000000e-05,\n",
       "        1.00000000e-05, 1.00000000e-05, 1.00000000e-05, 1.00000000e-05,\n",
       "        1.00000000e-05, 1.00000000e-05, 1.00000000e-05, 1.00000000e-05],\n",
       "       [1.00000000e+00, 1.00000000e-05, 1.00000000e-05, 1.00000000e-05,\n",
       "        1.00000000e-05, 1.00000000e-05, 1.00000000e-05, 1.00000000e-05,\n",
       "        1.00000000e-05, 1.00000000e-05, 1.00000000e-05, 1.00000000e-05,\n",
       "        1.00000000e-05, 1.00000000e-05, 1.00000000e-05, 1.00000000e-05,\n",
       "        1.00000000e-05, 1.00000000e-05, 1.00000000e-05, 1.00000000e-05]])"
      ]
     },
     "execution_count": 68,
     "metadata": {},
     "output_type": "execute_result"
    }
   ],
   "source": [
    "#zamijeniti nule s epsilonom\n",
    "matrica_emisija = np.where(matrica_emisija == 0, eps, matrica_emisija)\n",
    "matrica_emisija"
   ]
  }
 ],
 "metadata": {
  "kernelspec": {
   "display_name": "Python 3 (ipykernel)",
   "language": "python",
   "name": "python3"
  },
  "language_info": {
   "codemirror_mode": {
    "name": "ipython",
    "version": 3
   },
   "file_extension": ".py",
   "mimetype": "text/x-python",
   "name": "python",
   "nbconvert_exporter": "python",
   "pygments_lexer": "ipython3",
   "version": "3.9.1"
  }
 },
 "nbformat": 4,
 "nbformat_minor": 5
}
