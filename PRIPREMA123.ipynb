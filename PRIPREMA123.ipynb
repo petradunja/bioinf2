{
 "cells": [
  {
   "cell_type": "markdown",
   "id": "6ba9a11f",
   "metadata": {},
   "source": [
    "Priprema podataka\n",
    "- dobivanje parova nizova iz poravnanja višestrukih sekvenci (engl. Multiple sequence alignment)\n",
    "- korištenje podataka ([HIV Sequence Alignments](https://www.hiv.lanl.gov/content/sequence/NEWALIGN/align.html)) za inicijalizaciju matrica u Baum-Welch algoritmu\n"
   ]
  },
  {
   "cell_type": "code",
   "execution_count": 1,
   "id": "83e59a89",
   "metadata": {},
   "outputs": [],
   "source": [
    "import itertools\n",
    "import numpy as np\n",
    "import random\n",
    "\n",
    "from collections import Counter\n",
    "from collections import defaultdict \n",
    "from tqdm import tqdm"
   ]
  },
  {
   "cell_type": "code",
   "execution_count": 2,
   "id": "b4013ca5",
   "metadata": {},
   "outputs": [
    {
     "name": "stderr",
     "output_type": "stream",
     "text": [
      "Reading FASTA file: 100%|██████████| 1515900/1515900 [00:07<00:00, 208936.15it/s]\n"
     ]
    }
   ],
   "source": [
    "\n",
    "def read_fasta(file_path):\n",
    "    sequences = []\n",
    "    current_sequence = \"\"\n",
    "    current_header = \"\"\n",
    "    dozvoljeni_znakovi = set([\"-\", \"G\", \"C\", \"T\", \"A\"])\n",
    "\n",
    "\n",
    "\n",
    "    total_lines = sum(1 for line in open(file_path, 'r'))\n",
    "\n",
    "    with open(file_path, 'r') as file:\n",
    "        for line in tqdm(file, total=total_lines, desc=\"Reading FASTA file\"):\n",
    "            line = line.strip()\n",
    "            if line.startswith('>'):\n",
    "                if current_header: # dodaj sekvencu\n",
    "                    #provjeri je li unutra neki znak različit od \"-AGTC\"\n",
    "                    neki_znakovi = set(current_sequence) - dozvoljeni_znakovi\n",
    "                    if (len(neki_znakovi) == 0):\n",
    "                        sequences.append(current_sequence)\n",
    "                current_header = line[1:]\n",
    "                current_sequence = \"\"\n",
    "            else:\n",
    "                current_sequence += line\n",
    "\n",
    "    # zadnja sekvenca\n",
    "    if current_header:\n",
    "        neki_znakovi = set(current_sequence) - dozvoljeni_znakovi\n",
    "        if (len(neki_znakovi) == 0):\n",
    "            sequences.append(current_sequence)\n",
    "\n",
    "    return sequences\n",
    "\n",
    "\n",
    "fasta_file_path = 'HIV1_ALL_2021_genome_DNA.fasta'\n",
    "\n",
    "sequences_all = read_fasta(fasta_file_path)[:500]  # radi ograničenih resursa zadržat ćemo 500 sekvenci\n",
    "sequences = sequences_all\n"
   ]
  },
  {
   "cell_type": "code",
   "execution_count": 3,
   "id": "3ad31c15",
   "metadata": {},
   "outputs": [
    {
     "name": "stdout",
     "output_type": "stream",
     "text": [
      "Ukupan broj sekvenci: 500\n",
      "Duljina sekvenci: Counter({14937: 500})\n"
     ]
    }
   ],
   "source": [
    "print(f\"Ukupan broj sekvenci: {len(sequences)}\")\n",
    "print(f\"Duljina sekvenci: {Counter([len(i) for i in sequences])}\")"
   ]
  },
  {
   "cell_type": "code",
   "execution_count": 4,
   "id": "5ca69b58",
   "metadata": {},
   "outputs": [
    {
     "data": {
      "text/plain": [
       "249500"
      ]
     },
     "execution_count": 4,
     "metadata": {},
     "output_type": "execute_result"
    }
   ],
   "source": [
    "#napravi sve parove od poravnatih sekvenci (i (x,y) i (y,x))\n",
    "pairs = list(itertools.permutations(sequences_all, 2))\n",
    "len(pairs)"
   ]
  },
  {
   "cell_type": "code",
   "execution_count": 5,
   "id": "5ca8ec83",
   "metadata": {},
   "outputs": [],
   "source": [
    "pairs = random.sample(pairs, k=100)"
   ]
  },
  {
   "cell_type": "code",
   "execution_count": 6,
   "id": "fb90db16",
   "metadata": {},
   "outputs": [],
   "source": [
    "def process_pair(pair):\n",
    "    \n",
    "    prvi = ''.join(a for a, b in zip(pair[0], pair[1]) if a != '-' or b != '-' )\n",
    "    drugi = ''.join(b for a, b in zip(pair[0], pair[1]) if a != '-' or b != '-' )\n",
    "    \n",
    "    novi_prvi = ''.join('' if ((prvi[i] == '-' and i > 0 and drugi[i-1] == '-') or (prvi[i] == '-' and i < (len(drugi) - 1) and drugi[i + 1] == '-')) else prvi[i] for i in range(len(prvi)))\n",
    "    novi_drugi = ''.join('' if ((drugi[i] == '-' and i > 0 and prvi[i-1] == '-') or (drugi[i] == '-' and i < (len(prvi) - 1) and prvi[i + 1] == '-')) else drugi[i] for i in range(len(drugi)))\n",
    "    \n",
    "    return novi_prvi, novi_drugi\n",
    "\n",
    "def get_pair_values(pair):\n",
    "    return [\n",
    "        'M' if a != '-' and b != '-' else\n",
    "        'Ix' if a != '-' and b == '-' else\n",
    "        'Iy'\n",
    "        for a, b in zip(pair[0], pair[1])\n",
    "    ]\n",
    "    \n",
    "def izracunaj_matricu_pocetnih_vrijednosti(elementi):\n",
    "    pi = [\n",
    "        elementi[\"M\"] / sum(elementi.values()), \n",
    "        elementi[\"Ix\"] / sum(elementi.values()), \n",
    "        elementi[\"Iy\"] / sum(elementi.values())\n",
    "    ]\n",
    "    # ako slucajno bude 0 to treba zamjeniti s malom vrijednošću\n",
    "    eps = 0.00000001\n",
    "    pi = [max(vjerojatnost,eps) for vjerojatnost in pi]\n",
    "    return pi\n",
    "\n",
    "def normaliziraj_matricu(matrica):\n",
    "    eps = 0.00000001\n",
    "    matrica = matrica/ np.sum(matrica, axis=1, keepdims=True)\n",
    "    return np.where(matrica == 0, eps, matrica)\n"
   ]
  },
  {
   "cell_type": "code",
   "execution_count": 7,
   "id": "3e2b4ef1",
   "metadata": {},
   "outputs": [
    {
     "name": "stderr",
     "output_type": "stream",
     "text": [
      "100%|██████████| 100/100 [00:02<00:00, 36.26it/s]\n"
     ]
    }
   ],
   "source": [
    "stanja_set = ['M', 'Ix', 'Iy']\n",
    "emisija = sorted([\"A\", \"AA\", \"AC\", \"AG\", \"AT\", \"C\", \"CA\", \"CC\", \"CG\", \"CT\", \"G\", \"GA\", \"GC\", \"GG\", \"GT\", \"T\", \"TA\", \"TC\", \"TG\", \"TT\"])\n",
    "prvi_element_brojac = defaultdict(int)\n",
    "\n",
    "matrica_prijelaza = np.zeros((len(stanja_set), len(stanja_set)))\n",
    "matrica_emisija = np.zeros((len(stanja_set), len(emisija)))\n",
    "\n",
    "\n",
    "# for pair in itertools.permutations(sequences, 2):  # ukoliko zelimo izbjeci spremanje svih permutacija sekvenci u memoriju (maknuti varijablu pairs)\n",
    "with open(\"parovi.txt\", \"w\") as file:    \n",
    "    for pair in tqdm(pairs):\n",
    "        \n",
    "        processed_pair = process_pair(pair[:1000])\n",
    "        pair_values = get_pair_values(processed_pair)\n",
    "        \n",
    "        prvi_element_brojac[pair_values[0]] += 1\n",
    "        \n",
    "        for i in range(len(pair_values) - 1):\n",
    "            trenutno_stanje = stanja_set.index(pair_values[i])\n",
    "            sljedece_stanje = stanja_set.index(pair_values[i + 1])\n",
    "            matrica_prijelaza[trenutno_stanje, sljedece_stanje] += 1\n",
    "            \n",
    "        svi_parovi_simbola = []\n",
    "        for i, simbol_stanja in enumerate(pair_values):\n",
    "            x,y = processed_pair\n",
    "    \n",
    "            if x[i] != '-' and y[i] != '-':\n",
    "                par_simbola = x[i] + y[i]\n",
    "            else:\n",
    "                if x[i] == '-':\n",
    "                    par_simbola = y[i]\n",
    "                else:\n",
    "                    par_simbola = x[i]\n",
    "        \n",
    "            svi_parovi_simbola.append(par_simbola)\n",
    "            matrica_emisija[stanja_set.index(simbol_stanja), emisija.index(par_simbola)] += 1\n",
    "\n",
    "        file.write(str(svi_parovi_simbola))\n",
    "        file.write(\"\\n\")"
   ]
  },
  {
   "cell_type": "code",
   "execution_count": 8,
   "id": "47b55e4f",
   "metadata": {},
   "outputs": [
    {
     "data": {
      "text/plain": [
       "[0.04, 0.51, 0.45]"
      ]
     },
     "execution_count": 8,
     "metadata": {},
     "output_type": "execute_result"
    }
   ],
   "source": [
    "pi = izracunaj_matricu_pocetnih_vrijednosti(prvi_element_brojac)\n",
    "pi"
   ]
  },
  {
   "cell_type": "code",
   "execution_count": 9,
   "id": "f569af51",
   "metadata": {},
   "outputs": [],
   "source": [
    "#pi2 = [0.07368336673346694, 0.4631583166332665, 0.4631583166332665]\n",
    "#pi2"
   ]
  },
  {
   "cell_type": "code",
   "execution_count": 10,
   "id": "e2ed12b9",
   "metadata": {},
   "outputs": [
    {
     "data": {
      "text/plain": [
       "array([[9.97793003e-01, 1.08662900e-03, 1.12036801e-03],\n",
       "       [3.71980109e-02, 9.62801989e-01, 1.00000000e-08],\n",
       "       [3.18895923e-02, 1.00000000e-08, 9.68110408e-01]])"
      ]
     },
     "execution_count": 10,
     "metadata": {},
     "output_type": "execute_result"
    }
   ],
   "source": [
    "A = normaliziraj_matricu(matrica_prijelaza)\n",
    "A"
   ]
  },
  {
   "cell_type": "code",
   "execution_count": 11,
   "id": "9f8b3760",
   "metadata": {},
   "outputs": [],
   "source": [
    "#A2 = np.array([[9.97843253e-01, 1.07837332e-03, 1.07837332e-03],\n",
    "#       [4.12591903e-02, 9.58740196e-01, 6.13427300e-07],\n",
    "#       [4.12591903e-02, 6.13427300e-07, 9.58740196e-01]])\n",
    "#A2"
   ]
  },
  {
   "cell_type": "code",
   "execution_count": 12,
   "id": "a62b5ddc",
   "metadata": {},
   "outputs": [
    {
     "data": {
      "text/plain": [
       "array([[1.00000000e-08, 3.24012155e-01, 8.73947703e-03, 2.61032543e-02,\n",
       "        6.31378352e-03, 1.00000000e-08, 8.72900641e-03, 1.47195968e-01,\n",
       "        3.46693844e-03, 1.51451693e-02, 1.00000000e-08, 2.63882878e-02,\n",
       "        3.43319977e-03, 2.04755290e-01, 3.80897867e-03, 1.00000000e-08,\n",
       "        6.20791393e-03, 1.52091564e-02, 3.92764569e-03, 1.96563775e-01],\n",
       "       [2.88339720e-01, 1.00000000e-08, 1.00000000e-08, 1.00000000e-08,\n",
       "        1.00000000e-08, 2.16821772e-01, 1.00000000e-08, 1.00000000e-08,\n",
       "        1.00000000e-08, 1.00000000e-08, 2.75553296e-01, 1.00000000e-08,\n",
       "        1.00000000e-08, 1.00000000e-08, 1.00000000e-08, 2.19285212e-01,\n",
       "        1.00000000e-08, 1.00000000e-08, 1.00000000e-08, 1.00000000e-08],\n",
       "       [2.91718212e-01, 1.00000000e-08, 1.00000000e-08, 1.00000000e-08,\n",
       "        1.00000000e-08, 2.14316761e-01, 1.00000000e-08, 1.00000000e-08,\n",
       "        1.00000000e-08, 1.00000000e-08, 2.77307834e-01, 1.00000000e-08,\n",
       "        1.00000000e-08, 1.00000000e-08, 1.00000000e-08, 2.16657193e-01,\n",
       "        1.00000000e-08, 1.00000000e-08, 1.00000000e-08, 1.00000000e-08]])"
      ]
     },
     "execution_count": 12,
     "metadata": {},
     "output_type": "execute_result"
    }
   ],
   "source": [
    "E = normaliziraj_matricu(matrica_emisija)\n",
    "E"
   ]
  },
  {
   "cell_type": "code",
   "execution_count": 13,
   "id": "a4002ddf",
   "metadata": {},
   "outputs": [],
   "source": [
    "#E2 = np.array([[1.00000000e-08, 3.25734397e-01, 8.15964895e-03, 2.39453468e-02,\n",
    "#        5.72147873e-03, 1.00000000e-08, 8.15964895e-03, 1.50013314e-01,\n",
    "#        3.06291168e-03, 1.39968051e-02, 1.00000000e-08, 2.39453468e-02,\n",
    "#        3.06291168e-03, 2.08718026e-01, 3.67871353e-03, 1.00000000e-08,\n",
    "#        5.72147873e-03, 1.39968051e-02, 3.67871353e-03, 1.98404453e-01],\n",
    "#       [2.90796102e-01, 1.00000000e-08, 1.00000000e-08, 1.00000000e-08,\n",
    "#        1.00000000e-08, 2.18200828e-01, 1.00000000e-08, 1.00000000e-08,\n",
    "#        1.00000000e-08, 1.00000000e-08, 2.74978179e-01, 1.00000000e-08,\n",
    "#        1.00000000e-08, 1.00000000e-08, 1.00000000e-08, 2.16024890e-01,\n",
    "#        1.00000000e-08, 1.00000000e-08, 1.00000000e-08, 1.00000000e-08],\n",
    "#       [2.90796102e-01, 1.00000000e-08, 1.00000000e-08, 1.00000000e-08,\n",
    "#        1.00000000e-08, 2.18200828e-01, 1.00000000e-08, 1.00000000e-08,\n",
    "#        1.00000000e-08, 1.00000000e-08, 2.74978179e-01, 1.00000000e-08,\n",
    "#        1.00000000e-08, 1.00000000e-08, 1.00000000e-08, 2.16024890e-01,\n",
    "#        1.00000000e-08, 1.00000000e-08, 1.00000000e-08, 1.00000000e-08]])\n",
    "#E2"
   ]
  },
  {
   "cell_type": "code",
   "execution_count": 14,
   "id": "cdcc0a45",
   "metadata": {},
   "outputs": [],
   "source": [
    "\"\"\" if __name__ == \"__main__\":\n",
    "    with open(\"datoteka.txt\", \"w\") as file:\n",
    "        file.write(\"M\\n\")\n",
    "        file.write(\"20\\n\")\n",
    "        file.write(\"N\\n\")\n",
    "        file.write(\"3\\n\")\n",
    "        file.write(\"STANJA\\n\")\n",
    "        for stanje in stanja_set:\n",
    "            file.write(stanje + \" \")\n",
    "        file.write(\"\\n\")\n",
    "        file.write(\"SIMBOLI\\n\")\n",
    "        for simbol in emisija:\n",
    "            file.write(simbol + \" \")\n",
    "        file.write(\"\\n\")\n",
    "        \n",
    "        file.write(\"<A>\\n\")\n",
    "        for red in A:\n",
    "            file.write(\" \".join(map(str, red)) + \"\\n\")\n",
    "\n",
    "        file.write(\"<E>\\n\")        \n",
    "        for red in E:\n",
    "            file.write(\" \".join(map(str, red)) + \"\\n\")\n",
    "            \n",
    "        file.write(\"<pi>\\n\")        \n",
    "        for prob in pi:\n",
    "            file.write(str(prob) + \" \")\n",
    "             \"\"\""
   ]
  },
  {
   "cell_type": "code",
   "execution_count": null,
   "id": "19f7a958",
   "metadata": {},
   "outputs": [],
   "source": [
    "##priprema sekvenci za poravanje\n",
    "def process_pair2(pair):\n",
    "    \n",
    "    prvi = ''.join(a for a in pair[0] if a != '-' )\n",
    "    drugi = ''.join(b for b in pair[1] if b != '-' )\n",
    "\n",
    "    return prvi, drugi"
   ]
  },
  {
   "cell_type": "code",
   "execution_count": null,
   "id": "8347918c",
   "metadata": {},
   "outputs": [],
   "source": [
    "##treba nam 50 parova\n",
    "sequences2 = read_fasta(fasta_file_path)[1500:1600] \n",
    "pairs2 = list(itertools.permutations(sequences2, 2))\n",
    "parovi_za_poravnanje = [process_pair2(pair) for pair in tqdm(pairs2)]\n",
    "random50_sekvenci = random.sample(parovi_za_poravnanje, 50)"
   ]
  },
  {
   "cell_type": "code",
   "execution_count": null,
   "id": "858a9fd5",
   "metadata": {},
   "outputs": [],
   "source": [
    "\n",
    "if __name__ == \"__main__\":\n",
    "    with open('sekvence_za_poravnanje.txt', 'w') as datoteka:\n",
    "        for element in random50_sekvenci:\n",
    "            datoteka.write(f\"[{', '.join(map(str, element))}]\\n\")"
   ]
  },
  {
   "cell_type": "code",
   "execution_count": null,
   "id": "11d78e4f",
   "metadata": {},
   "outputs": [],
   "source": [
    "duljine_stringova = [len(string) for tuple_par in parovi_za_poravnanje for string in tuple_par]\n",
    "\n",
    "#najdulja sekvenca - manje od 10000 - bitno za c++ kod\n",
    "najdulja_sekvenca = max(duljine_stringova)\n",
    "najdulja_sekvenca"
   ]
  }
 ],
 "metadata": {
  "kernelspec": {
   "display_name": "Python 3 (ipykernel)",
   "language": "python",
   "name": "python3"
  },
  "language_info": {
   "codemirror_mode": {
    "name": "ipython",
    "version": 3
   },
   "file_extension": ".py",
   "mimetype": "text/x-python",
   "name": "python",
   "nbconvert_exporter": "python",
   "pygments_lexer": "ipython3",
   "version": "3.11.3"
  },
  "vscode": {
   "interpreter": {
    "hash": "4de2f549d47b51359f4f576ad62b9e1f8d406553f4d935e300ecfecc4b9dde1c"
   }
  }
 },
 "nbformat": 4,
 "nbformat_minor": 5
}
