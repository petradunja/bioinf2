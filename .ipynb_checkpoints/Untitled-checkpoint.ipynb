{
 "cells": [
  {
   "cell_type": "markdown",
   "id": "b1fcde22",
   "metadata": {},
   "source": [
    "Priprema podataka\n",
    "- dobivanje parova nizova iz poravnanja višestrukih sekvenci (engl. Multiple sequence alignment)\n",
    "- korištenje podataka ([HIV Sequence Alignments](https://www.hiv.lanl.gov/content/sequence/NEWALIGN/align.html)) za inicijalizaciju matrica u Baum-Welch algoritmu\n"
   ]
  },
  {
   "cell_type": "code",
   "execution_count": 1,
   "id": "096506ad",
   "metadata": {},
   "outputs": [],
   "source": [
    "from tqdm import tqdm\n",
    "import itertools\n",
    "from collections import Counter"
   ]
  },
  {
   "cell_type": "code",
   "execution_count": 2,
   "id": "c956d793",
   "metadata": {},
   "outputs": [
    {
     "name": "stderr",
     "output_type": "stream",
     "text": [
      "Reading FASTA file: 100%|████████████████████████████████████████████████| 1515900/1515900 [00:02<00:00, 748773.28it/s]\n"
     ]
    }
   ],
   "source": [
    "from tqdm import tqdm\n",
    "\n",
    "def read_fasta(file_path):\n",
    "    sequences = []\n",
    "    current_sequence = \"\"\n",
    "    current_header = \"\"\n",
    "\n",
    "    total_lines = sum(1 for line in open(file_path, 'r'))\n",
    "\n",
    "    with open(file_path, 'r') as file:\n",
    "        for line in tqdm(file, total=total_lines, desc=\"Reading FASTA file\"):\n",
    "            line = line.strip()\n",
    "            if line.startswith('>'):\n",
    "                if current_header: #dodaj sekvencu\n",
    "                    sequences.append(current_sequence)\n",
    "                current_header = line[1:]\n",
    "                current_sequence = \"\"\n",
    "            else:\n",
    "                current_sequence += line\n",
    "\n",
    "    #zadnja sekvenca\n",
    "    if current_header:\n",
    "        sequences.append(current_sequence)\n",
    "\n",
    "    return sequences\n",
    "\n",
    "\n",
    "fasta_file_path = 'HIV1_ALL_2021_genome_DNA.fasta'\n",
    "sequences = read_fasta(fasta_file_path)\n",
    "\n",
    "\n",
    "\n"
   ]
  },
  {
   "cell_type": "code",
   "execution_count": 3,
   "id": "459e504f",
   "metadata": {},
   "outputs": [
    {
     "name": "stdout",
     "output_type": "stream",
     "text": [
      "Ukupan broj sekvenci: 5053\n",
      "Duljina sekvenci: Counter({14937: 5053})\n"
     ]
    }
   ],
   "source": [
    "print(f\"Ukupan broj sekvenci: {len(sequences)}\")\n",
    "print(f\"Duljina sekvenci: {Counter([len(i) for i in sequences])}\")"
   ]
  },
  {
   "cell_type": "code",
   "execution_count": 4,
   "id": "48338109",
   "metadata": {},
   "outputs": [
    {
     "data": {
      "text/plain": [
       "25527756"
      ]
     },
     "execution_count": 4,
     "metadata": {},
     "output_type": "execute_result"
    }
   ],
   "source": [
    "#napravi sve parove od poravnatih sekvenci (i (x,y) i (y,x))\n",
    "pairs = list(itertools.permutations(sequences, 2))\n",
    "len(pairs)"
   ]
  },
  {
   "cell_type": "code",
   "execution_count": 5,
   "id": "e83ed39a",
   "metadata": {},
   "outputs": [
    {
     "data": {
      "text/plain": [
       "'-TGGAAGGGCTAATTCAC---TCCCAACGAAGACAAGATATCCTTGATCTGTGGATCTACCACACACAAGGCTACTTC---CCTGATTAGCAGAACTACACACCAGGG---CCAGGG---ATCAGATATCCACTGACCTTTGGATGGTGCTACAAGCTAGTACCAGTT---GAGCCAGAGAAGTTA---GAAGAA---GCC---AACAAAGGAGAGAACACCAGCTTGTTACACCCTGTGAGCCTGCATGGAATGGATGACCCGGAGAGAGAAGTGTTAGAGTGGAGGTTTGACAGCCGCCTAGCATTT---CATCACATGGCCCGAGAGCTG------CAT---CCGGAGTAC------------------------TTCAAGAACTGCTGA-----------------------------------CATCGAGCTTG------------CTAC---AA--GGGACTTTCC--------------------GCT--GGGGACTTTCCA--GGG-AGGCGTGGC--------------CTG-GG-CGGGACT-GGGG-AGTGGC-GAG-CCCTCAGA-TCCTGCATATAAGCAG-CTGCTTTTTGCCTGTACT-G-GGTCTCTC--TGGTTAGACCAGATC-T-GAGCCTGGGAGCTCTCTGG---CTAAC-TAGGG------A-ACCCACTG-C--T-T-AA---------GCCTCAA---TAAAGCTTG-CC-TT-GAGTGC-TTC--AA-G-----TA-GTGT-GTGCCCGTCTG-T-TG---------------TGTGACT--------------CTGGT-A---------------ACTAGAGATC-------CCTCAGACCCTT-TTAG-T-CAGTGTGGAAAA-TCTCTAGCAGTGGCG------------------------CCCGAACAGGGAC------------------------CTGAAAGCGAAAG---------------------------------------------GGAAACCAGAGGA-----------GCTCTCTCGACGCA--GGACTCGGCTTGCT------GAAGCGCGCACGGCAA-----GAGGC-------------GAGG-GG--CGGC-----GACTGGTGAGTACGCC------------------------AAAAATTTTGACT----------AGC-GGA-GG---------CTAGA------------A--G--------------GA-G-A-G--AG-------------------------------ATGGGTGCGAGAGCGTCAGTA---TTAAGC---GGG---GGAGAA---TTAGATCGATGGGAAAAAATTCGGTTA---AGG------CCA---GGGGGAAAG---AAAAAATATAAA---TTA---AAACATATAGTATGGGCAAGCAGG---GAGCTAGAACGATTCGCAGTTAATCCTGGCCTG------------TTAGAAACA---TCAGAA---GGCTGTAGACAAATACTGGGACAGCTACAACCATCC---CTTCAG---ACAGGATCAGAAGAACTTAGATCATTATATAATACAGTA---GCAACCCTCTATTGTGTGCATCAAAGGATA---GAGATAAAAGACACCAAGGAAGCTTTAGACAAGATAGAGGAAGAGCAAAACAAAAGTAAG------------------------AAAAAAGCACAGCAAGCAGCAGCT---------------------GACACAGGA------------------CAC---AGCAATCAG------------------------GTCAGCCAAAATTACCCTATA------------GTGCAGAAC---ATCCAG---GGGCAAATGGTACAT---CAGGCC---ATATCACCTAGAACT---TTAAATGCA---TGGGTAAAAGTAGTA---GAAGAG---AAG---------GCTTTCAGCCCA------GAAGTGATACCCATG---TTTTCAGCA---TTATCAGAAGGAGCCACCCCACAAGAT---TTAAACACCATGCTAAACACAGTG---GGGGGACATCAA---GCAGCCATGCAAATG---TTAAAAGAG---ACCATCAATGAG---GAAGCT---GCAGAATGGGAT---AGA---GTGCAT---CCAGTGCATGCA---GGGCCTATTGCACCAGGCCAGATG---AGAGAACCA---AGGGGAAGTGACATAGCAGGAACTACTAGTACC---CTTCAGGAACAAATAGGATGGATGACA---------AATAATCCA---CCT---ATC---CCAGTA---GGAGAAATTTATAAAAGATGGATAATCCTGGGATTAAATAAAATAGTAAGAATGTATAGCCCTACCAGCATTCTGGACATAAGACAAGGA---CCAAAGGAACCCTTTAGAGACTATGTAGACCGGTTCTATAAAACTCTAAGAGCCGAGCAAGCTTCACAGGAGGTAAAA---AATTGGATGACAGAAACCTTGTTGGTCCAA---AATGCGAACCCAGATTGTAAGACTATTTTAAAAGCATTGGGACCAGCGGCTACACTAGAAGAAATGATG------------------------ACAGCATGTCAGGGAGTA---GGAGGA---CCCGGCCATAAG---GCAAGAGTTTTGGCTGAA------GCAATG---AGCCAAGTAACAAAT---------------------TCAGCTACCATA---ATGATG------CAGAGAGGCAAT---------TTT---AGGAACCAAAGAAAG------ATTGTTAAGTGTTTCAATTGT---GGCAAAGAAGGG---CAC---ACA---GCC---AGAAATTGCAGGGCCCCTAGG------AAAAAG---GGCTGTTGGAAATGTGGA---AAGGAAGGA---CACCAAATGAAAGATTGT---------------ACTGAGAGACAGGCTAATTT-TTT---AGGGAAGATCTG---GCC---TTCCTACAA---------GGG---AAG---GCCAGGGAATTTTCTTCAGAGCAGACCAGAGCCAACAGC------------------------------------------------------CCCACCAGA------AGAGAGCTTCAGGTC------------------TGGGGTAGAGACAACAAC---TCCCCC---------------------------------------TCAGAA---------------GCAGGAGCC------------GATAGACAA---------------------------GGA------------ACTGTA------TCCTTT------AACTTCCCTCAGGTCACTCTTTGGCAACGACCCCTCGTCACAATAAAG---ATAGGGGGG---CAACTAAAGGAAGCTCTATTA---GATACAGGAGCAGATGATACAGTATTA---GAA------GAA------ATGAGTTTG---CCAGGA---AGATGGAAACCAAAA---ATGATAGGGGGAATTGGAGGTTTTATCAAAGTA---AGACAGTAT---GATCAGATACTCATAGAAATCTGTGGA---CATAAAGCTATA---GGTACAGTATTAGTAGGA---CCTACACCTGTC------AAC---ATAATTGGAAGAAATCTGTTGACTCAGATTGGTTGCACTTTAAATTTT---CCCATTAGCCCTATTGAGACTGTACCAGTAAAATTAAAGCCAGGAATG---GATGGCCCAAAAGTTAAACAA---TGGCCATTGACAGAAGAA---AAAATAAAAGCATTAGTAGAAATTTGTACA------GAGATGGAA---AAGGAAGGGAAAATTTCA---AAA---ATTGGGCCT---GAAAATCCATACAATACTCCAGTA---TTTGCCATAAAGAAA---AAAGACAGT------------ACTAAA---------TGGAGA---AAATTAGTAGATTTCAGAGAACTTAATAAG---AGAACTCAAGACTTCTGGGAA---GTTCAA------TTA---GGAATA---------------------------CCACATCCCGCAGGGTTA---AAA------AAG---AAA---AAA------TCAGTAACAGTACTGGATGTGGGTGATGCATAT---TTTTCAGTTCCCTTA---GATGAAGACTTCAGG---AAGTATACTGCATTTACCATACCTAGTATAAACAATGAGACACCAGGGATTAGATATCAGTACAATGTGCTTCCACAGGGATGGAAAGGATCACCAGCAATATTCCAAAGT---------AGCATG---ACAAAAATCTTAGAGCCTTTTAGAAAA---CAAAATCCAGACATAGTTATCTATCAATACATGGATGATTTGTATGTAGGATCTGACTTAGAAATA---GGGCAG---CATAGA---ACAAAAATAGAGGAGCTGAGACAACATCTGTTGAGGTGGGGACTTACC---ACACCAGACAAAAAA---CATCAGAAAGAACCTCCATTCCTTTGGATGGGTTATGAACTC---CATCCTGATAAATGGACAGTACAG---CCTATAGTGCTGCCAGAA---AAAGAC---AGCTGG---ACTGTCAATGACATA---CAG---AAGTTAGTGGGGAAATTGAATTGG------------------GCAAGTCAGATTTAC---CCAGGGATTAAAGTA---AGGCAATTATGTAAACTC---CTTAGAGGAACCAAAGCACTAACAGAAGTA---ATACCACTAACAGAAGAA---GCAGAGCTAGAACTG---GCAGAAAACAGA---GAGATTCTAAAAGAACCAGTACATGGAGTGTATTATGACCCATCAAAAGACTTAATAGCAGAAATACAGAAGCAGGGGCAA---GGCCAATGGACATAT---CAAATTTATCAAGAGCCATTT---AAAAATCTGAAA---ACAGGA---AAATATGCAAGAATG---AGGGGTGCCCACACTAATGATGTA------AAACAATTAACAGAGGCAGTGCAAAAAATAACCACAGAAAGCATAGTAATATGGGGAAAG---ACTCCTAAATTTAAACTGCCCATACAAAAGGAAACATGGGAAACA---------TGGTGGACAGAGTATTGGCAAGCCACCTGGATTCCTGAG---TGGGAG------------------TTTGTTAATACCCCTCCCTTAGTGAAATTATGGTACCAGTTAGAGAAA---------------------------------GAACCCATAGTAGGAGCAGAA---ACCTTCTATGTAGATGGGGCAGCTAAC---AGGGAGACTAAATTAGGAAAA---GCAGGATATGTTACTAATAGAGGAAGACAAAAA---GTTGTCACCCTAACTGACACAACAAATCAGAAGACTGAGTTACAAGCAATTTATCTAGCTTTGCAGGATTCG---GGATTAGAAGTAAACATAGTAACAGACTCACAATATGCATTAGGAATCATT---CAAGCACAACCAGATCAAAGTGAATCAGAGTTAGTC---AAT---CAAATAATAGAG---CAGTTAATAAAAAAG---GAAAAG---GTCTATCTGGCATGGGTACCAGCACACAAAGGAATT---GGAGGAAATGAA---CAAGTAGATAAATTAGTCAGTGCTGGA---ATCAGGAAAGTACTA---TTTTTAGAT---GGA---ATAGAT---AAGGCCCAA---GAT---GAACATGAGAAATATCACAGTAATTGGAGAGCA---ATGGCTAGTGAT---TTTAACCTG---CCACCTGTAGTA---GCAAAAGAA---ATAGTAGCC---AGCTGTGATAAATGT---CAGCTAAAAGGAGAA---GCCATGCATGGACAAGTAGACTGTAGTCCAGGAATATGGCAACTAGAT---TGTACACATTTAGAAGGAAAAGTTATCCTGGTA---GCAGTTCATGTAGCCAGTGGATATATAGAA---GCAGAAGTTATTCCAGCAGAAACAGGGCAGGAAACAGCATATTTTCTT---TTAAAATTAGCA---GGAAGATGG---CCAGTAAAAACAATACAT------ACTGACAATGGCAGCAATTTCACCGGTGCTACGGTTAGGGCCGCC---TGTTGGTGGGCGGGAATCAAG---CAGGAATTTGGAATTCCCTACAATCCCCAAAGTCAAGGAGTAGTAGAATCTATGAATAAAGAATTA---AAGAAAATTATAGGACAGGTAAGAGATCAGGCTGAACATCTTAAGACAGCAGTACAAATGGCAGTATTCATCCAC---------AATTTT---AAAAGA---AAA---GGGGGG---ATTGGGGGG---------------------------------------------------------------TACAGTGCAGGGGAAAGAATAGTAGACATAATAGCAACAGACATACAAACTAAAGAATTACAAAAACAAATTACAAAA---ATTCAA---------AATTTTCGGGTTTAT---TACAGGGACAGCAGAAATCCACTTTGGAAAGGACCAGCAAAGCTCCTC---TGGAAAGGTGAAGGGGCAGTAGTAATACAA------------------GATAAT------AGTGACATAAAAGTAGTGCCAAGAAGAAAAGCA---AAGATC---ATTAGGGAT---TATGGAAAACAGATGGCA---GGTGATGATTGTGTG---GCA------AGTAGACAGGATGAGGATTAG--AACATGGAAAAGTTTAGTAAAACACCATATGTATGTTTCAGGGAAAGCT---AGGGGATGGTTTTATAGACATCACTATGAAAGC---CCTCAT---CCAAGAATAAGT---------TCAGAAGTACACATCCCACTAGGG---------------------GATGCT---AGATTGGTAATAACAACATAT---TGGGGTCTGCATACAGGAGAAAGA---GACTGGCAT---TTGGGTCAGGGAGTCTCCATAGAATGGAGG---AAAAAGAGATATAGCACACAA---GTAGACCCTGAACTAGCAGACCAACTA---ATTCATCTGTATTACTTTGACTGTTTTTCAGACTCT---GCTATAAGAAAGGCCTTATTAGGACACATAGTT---AGCCCTAGGTGTGAATATCAAGCAGGACATAAC------AAGGTAGGATCTCTACAATACTTGGCA------------CTAGCAGCA---TTAATAACA---------------CCAAAA------------AAGATAAAG---CCACCTTTG---CCTAGTGTT------------ACGAAACTGACAGAGGATAGA------TGGAACAAGCCCCAGAAGACCAAGGGCCACAGAGGGAGCCACACAATGAATGGACACTAG-AGCTTTTAGAGGAGCTTAAGAATGAAGCTGTTAGA---CATTTTCCTAGGATTTGGCTCCATGGCTTAGGGCAACATATCTATGAAACTTATGGGGATACT---TGGGCAGGAGTGGAAGCCATAATA---AGAATTCTGCAA---CAACTGCTGTTTATCCAT--TTTCAGAATTGGGTGT---CGACATAGCAGAATAGGCGTT---------------ACTCGA------------------CAGAGGAGAGCAAGA------AATGGAGCCAGT------AGATCCTAG--ACTAGAGCCCTGGAAG---CATCCAGGAAGTCAGCCTAAAACT---GCTTGTACCAATTGCTAT------TGTAAAAAGTGTTGCTTTCATTGCCAA---------------GTTTGTTTCATAACAAAAGCCTTA---------GGCATCTCCTATGGCAGGAAGAAG---------CGGAGA------CAGCGACGA---AGAGCTCATCAGAACAGTCAGACTCATCAAGCT---TCTCTATCAAAGCA--GTAAGTAGTAC---------------------------------------ATGTA-ACG---------------------------------------------------CAACCTATACCAATAGTAGCAATAGTAGCATTAGTAGTAGCA---ATAATAATAGCAATAGTTGTGTGGTCCATA---------------------GTAATCATAGAATATAGG------------------------------------AAAATATTAAGACAAAGAAAAATA---GACAGGTTAATTGATAGACTAATAGAA---------------------------------AGAGCAGAAGACAGT---GGC---A--------------ATGAGAGTGAAGGAG------------------AAA---TAT---------CAG---CACTTG------TGGAGATGG---------------------------------------------GGGTGGAGATGGGGCACCATG------CTCCTTGGG------ATG---TTGATGATCTGT------------------------------AGTGCTACA------GAAAAATTGTGGGTCACAGTCTATTATGGG------------------GTACCTGTGTGG---AAGGAAGCAACC---ACCACT------------CTATTTTGTGCATCAGATGCTAAAGCATATGATACA---GAGGTA---CATAATGTT---TGGGCCACACATGCCTGTGTACCCACAGAC---CCCAACCCACAAGAAGTA---GTATTG------GTAAATGTGACAGAAAATTTTAACATGTGGAAAAATGACATGGTAGAACAGATGCAT---GAGGATATAATCAGTTTATGGGATCAAAGCCTAAAG---CCA---TGT---GTAAAATTAACC------CCACTC---TGTGTTAGT---------TTAAAG---TGCACTGATTTGAAGAATGATACTAATACCAATAGT---------------------------------------------------------------------------------------------------AGTAGCGGGAGAATGATAATGGAGAAAGGAGAGATAAAAAACTGCTCTTTCAATATCAGC---------------------ACAAGCATAAGAGGTAAGGTGCAGAAAGAATATGCATTTTTTTATAAACTTGATATA---ATACCA---ATAGATAAT---------------------------------------------------------------------------------------------------------GATACTACC---AGC---TAT---AAG---TTGACAAGTTGTAACACC---TCAGTC---ATT------ACACAG------GCCTGT---CCAAAG------GTATCCTTTGAG---CCAATTCCC---ATACATTAT------TGTGCCCCGGCT------GGTTTTGCGATTCTA------AAA---TGT---AATAATAAG---ACGTTC---AAT---GGA---ACAGGACCA---------TGTACA---AATGTC---AGCACAGTA------CAATGTACACAT---GGAATTAGGCCAGTA---------GTATCA---ACTCAA---CTGCTGTTA---------AATGGCAGT---CTAGCA---GAA---GAAGAG------------------------------------GTAGTAATTAGATCTGTCAATTTCACGGACAATGCTAAAACC---ATA---ATAGTA------CAGCTGAAC------ACA------TCTGTAGAAATTAATTGTACAAGACCCAACAACAAT------ACAAGA---AAA---AGAATCCGTATCCAGAGAGGACCAGGGAGA---GCA------TTT---GTT---------------------ACAATA---GGA---------------------AAAATAGGAAATATGAGACAAGCACATTGTAACATTAGT---------------------AGAGCAAAATGGAAT---AACACT---TTAAAACAGATA---GCTAGC---AAATTAAGA------GAACAATTTGGA------------------------------AATAATAAAACAATAATCTTT------------------AAG---CAATCC------TCAGGA---------GGGGACCCAGAAATTGTAACGCACAGTTTTAATTGTGGA---GGGGAATTTTTCTACTGTAATTCA---ACACAA---CTGTTTAATAGTACTTGGTTTAATAGTACTTGGAGT------------------------------------------------------ACTGAAGGGTCAAATAACACTGAAGGAAGTGACACAATCACCCTCCCATGCAGA---ATAAAACAAATTATAAACATGTGGCAG---------------------------AAAGTAGGAAAAGCAATGTATGCCCCTCCCATCAGTGGACAAATTAGA------TGTTCA---TCA---AAT---ATT---------------ACAGGGCTG---CTA---TTAACA------------AGAGATGGTGGT---------------------------------------------------AATAGCAACAATGAGTCCGAGATC---------TTCAGACCTGGAGGAGGAGATATGAGGGACAATTGGAGA------AGTGAA---TTATAT---AAA---TATAAA---GTAGTA------AAAATT---GAACCA---TTA---GGAGTAGCACCC------ACC---AAGGCAAAGAGA---AGA---GTG---GTG---------------CAG---AGAGAAAAAAGA---GCAGTG------GGA------ATA---GGA------GCT---TTG---TTCCTT---GGG---TTCTTGGGAGCAGCA---GGAAGC---------ACTATG---GGCGCAGCCTCA---ATGACGCTGACGGTACAGGCC---AGA------CAA---TTATTG---TCTGGTATA---GTGCAG---CAGCAG---AACAATTTG---CTGAGG---GCTATTGAG------GCGCAACAG------CATCTG---TTGCAACTCACAGTCTGGGGCATCAAGCAG---CTCCAG---GCAAGAATCCTGGCTGTGGAAAGATACCTAAAG---GATCAACAGCTCCTG---GGGATTTGG------GGTTGCTCTGGAAAA---CTCATTTGC------ACCACTGCTGTGCCTTGGAATGCT---AGT---TGG---------------------------------------AGTAATAAATCTCTGGAACAGATTTGG---------AAT---CACACGACCTGG---ATGGAG---TGG---GAC---AGAGAAATTAAC---AATTACACAAGCTTAATACACTCCTTAATTGAAGAATCGCAA---AACCAGCAAGAA---AAGAATGAACAAGAA---TTA---------------TTGGAATTAGATAAATGG---GCA---AGTTTGTGGAATTGGTTT---AACATAACAAATTGGCTGTGGTATATA---AAATTATTCATAATGATAGTAGGA---GGCTTGGTAGGTTTA---AGAATAGTT---TTTGCTGTACTTTCTATAGTG---------AATAGAGTTAGGCAGGGATATTCA---CCA---TTATCG---TTTCAG---ACCCAC---CTCCCAACC---------------CCG---AGGGGA------CCCGACAGG------CCCGAAGGAATAGAAGAAGAAGGT---GGA---------GAGAGAGAC---------AGAGACAGATCC---ATTCGA------------TTAGTGAACGGA---TCCTTGGCA---CTTATCTGGGACGATCTGCGGAGCCTGTGCCTC------------TTC------------AGCTAC---CACCGCTTGAGAGAC---TTACTCTTG------ATTGTAACGAGGATTGTGGAA---CTT---CTG---GGACGC---------------------------------------------AGGGGGTGG------GAAGCCCTCAAA---TATTGG---------TGGAATCTCCTACAGTATTGGAGTCAGGAACTAAAGAATAGTGCT---GTTAGCTTGCTCAATGCCACAGCCATAGCAGTAGCTGAG---GGGACAGATAGGGTTATAGAAGTAGTACAAGGAGCTTGTAGA------GCTATTCGCCACATACCTAGA---AGAATA------AGACAGGGCTTGGAAAGGATT------TTG------------CTA---TAA------------------------------------------G--ATGGGTGGCAAGTGGTCAAAA---------AGTAGTGTG---ATT---GGATGGCCTACTGTAAGGGAAAGAATGAGACGAGCT------------------------------------------------------------GAGCCAGCA------------------------------GCAGATAGGGTGGGAGCA---GCATCTCGAGACCTGGAAAAACATGGAGCAATCACAAGTAGCAATACAGCAGCTACCAATGCTGCT------TGTGCCTGGCTAGAAGCA---------CAAGAGGAG---------GAG------GAGGTGGGTTTTCCAGTCACACCTCAGGTACCTTTAAGACCAATGACTTACAAGGCAGCTGTA------GATCTTAGCCACTTTTTAAAAGAAAAGGGGGGACTG---GAAGGGCTAATTCACTCCCAAAGA---AGACAAGATATC---------CTTGATCTGTGGATCTACCACACA---CAA---GGCTACTTC---CCTGATTAGCAG---AACTACACACCAGGGCCAGGG---GTCAGATATCCA---CTGACCTTTGGATGGTGCTACAAGCTAGTACCAGTTGAGCCAGATAAG---ATAGAAGAG---------------------------------GCCAATAAAGGA------GAGAACACCAGCTTGTTACACCCTGTGAGCCTGCATGGGATGGATGACCCG---GAGAGA---GAAGTGTTAGAGTGGAGGTTTGACAGCCGCCTAGCA---TTTCATCACGTGGCCCGAGAGCTGCAT---CCGGAGTAC------------------------TTCAAGAACTGCTGAC-----------------------------------------ATCGAGCTT-----------------------------------GCTACAA--------------------------------------------GGGACTTTCC-----------------GCTG-------------------------------------------------GGGACTTTCC---------------------------------------------------------------------------------AGGGAGGC---------------GTGGCC-TGGGCGGGACT-----------GGGG-AGTG-GC-GAGCCC--TCAG-A-----TCCTGCAT--ATAAGCAG-C-TGCTTTT-T-GC-C-TG-TA--CTGG-G----TC-TCTC--TG--------G-TTAG----A----------------CCAGAT--------------------------------------------------------------------------------CTGAG----------------CC-TGGG-AGCTC----------------------------TCTGG-----------C------------------------------------------------TAAC-T-AGGGAA-C-CCACTGCTT----------------------------------------------------------AA-GCCT-----------------------C-AAT--AAAGC-TTGC----C--------------------TT--GA--G----------------TG-CT----TCAAG-TAG-TGTGTGCCCGTC----TG-T--T-GT-------------GT-GACT-C--------------TGG-T-AACT------------AGAGA-----------TCCCTCAGAC-CC----T-TT------TAGTCAGTGTGGAAA------------ATCTCTAGCA-------------------------------------------------------------------------------------------------------------------------------------------------------------------------------------------------------------------------------------------------------------------------------------------------------------------'"
      ]
     },
     "execution_count": 5,
     "metadata": {},
     "output_type": "execute_result"
    }
   ],
   "source": [
    "pairs[0][0]"
   ]
  },
  {
   "cell_type": "code",
   "execution_count": 6,
   "id": "5afe2f44",
   "metadata": {},
   "outputs": [
    {
     "name": "stdout",
     "output_type": "stream",
     "text": [
      "14937\n",
      "14937\n"
     ]
    }
   ],
   "source": [
    "print(len(pairs[0][1]))\n",
    "print(len(pairs[0][1]))"
   ]
  },
  {
   "cell_type": "code",
   "execution_count": 7,
   "id": "660aa447",
   "metadata": {},
   "outputs": [
    {
     "data": {
      "text/plain": [
       "'-GGA-TGGGTTAATTTAC---TCCCGGAAAAGACAAGAGATCCTTGATCTGTGGGTCTACAACACACAAGGCTACTTC---CCTGATTGGCAGAATTACACACCAGGG---CCAGGG---ATCAGATACCCACTAACATTTGGATGGTGCTACAAGCTAGTACCAGTT---GATCAAGGTGCAGTA---GAGGAG---GCT---ACTGGAGAGGAGAACAACAGTCTATTACACCCTATATGCCAACATGGAATGGATGATGAGGAGAAAGAAGTGTTAATGTGGAGGTTTGACAGTACCCTGGCATTA---AGACACAGAGCTCATGAGATG------CAT---CCGGAGTTC------------------------TACAAAGACTGCTGACAGTCTACAAAAGACTGCTGA--------------CACAGAAGTTG------------CTGAC------GGGACTTTCC--------------------ACT--GGGGACTTTCC--GGGG-AGGTGTGGT--------------------------TT-GGGG-AGTGGC-TAC-CCCTCAGA-TGCTGCATATAAGCAG-CTGCTTTTCGCTTGTACT-G-GGTCTCTC--TTGTTAGACCA-GAT-C-GAGCCTGGGAGCTCTCTGG---CTAGC-GAGGG------A-ACCCACTG-C--T-T-AA---------GCCTCAA---TAAAGCTTG-CC-TT-GAGTGC-TTC--AA-G-----TA-GTGT-GTGCCCGTCTG-T-TG---------------TATGACT--------------CTGGT-A---------------ACTAGAGATC-------CCTCAGACCACT-CTAG-A-CTGTGT-AAAAA-TCTCTAGCAGTGGCG------------------------CCCGAAC------------------------------------------------------------------------AGGGACTCGAAAGCGAAAGTTCCGGAGAA-----------GTTCTCTCGACGCA--GGACTCGGCTTGCT------GAGGTGCACACAGCAA-----GAGGC-------------GA-G-AG--CGGC-----GACTGGTGAGTACGCC---------------------TAAAAGTTTTTTGACT----------AGC-GGA-GG---------CTAGA------------A--G--------------GA-G-A-G--AG-------------------------------ATGGGTGCGAGAGCGTCAGTA---TTAAGC---GGG---GGAAAA---TTAGATGCATGGGAGAAAATTCGGTTA---AGG------CCA---GGGGGAAAG---AAAAAATATAGA---ATA---AAACATCTAGTATGGGCAAGCAGG---GAGCTGGAAAGATTCGCACTTAACCCTAGCCTT------------TTAGAAACA---ACAGAA---GGATGTCAACAAATAATGGAACAATTACAATCAGCT---CTCAAT---ACAGGAACAGAAGAACTTAGATCATTATATAATACAGTA---GCAACCCTCTATTGTGTACATCAACGGATA---GATGTAAAAGACACCAAGGAAGCTTTAGATAAAATAGAGGAAATAAAAAACAGAAGCAAG------------------------CAAAAGACACAGCAGGCAGCGGCT---------------------GACACAGGA------------------AAC---AGCAACAAG------------------------GTCAGTCAAAATTACCCCATA------------GTGCAAAAT---GCACAA---GGGCAAATGACACAC---CAGGCC---TTATCACCTAGGACT---TTGAATGCC---TGGGTGAAAGTAGTA---GAAGAG---AAG---------GCTTTCAGCCCA------GAAGTAATACCCATG---TTCTCAGCA---TTATCAGAGGGAGCCACCCCACAAGAT---TTAAATATGATGCTGAATGTAGTG---GGGGGACACCAG---GCAGCTATGCAAATG---TTAAAAGAT---ACCATCAATGAG---GAAGCT---GCAGAGTGGGAC---AGG---CTACAT---CCAGTACATGCA---GGGCCTATTCCACCAGGCCAGATG---AGAGAACCA---AGGGGAAGTGACATAGCAGGAACCACTAGTAAC---GTTCAAGAACAAATAGGATGGATGACA---------GGCAACCCA---CCT---ATC---CCAGTG---GGAGACATCTATAGAAGATGGATAATCCTGGGATTAAATAAAATAGTAAGAATGTATAGCCCTGTTAGCATTTTGGACATAAGACAAGGG---CCAAAAGAACCCTTCAGAGACTATGTAGATAGGTTCTTTAAAACTCTCAGAGCTGAGCAAGCTACACAGGATGTAAAA---AACTGGATGACAGAAACATTGCTGGTCCAA---AATGCGAATCCAGACTGTAAGTCCATTTTAAGAGCATTAGGAGCAGGGGCTACATTAGAAGAAATGATG------------------------ACAGCATGCCAGGGAGTG---GGAGGA---CCCGGCCATAAA---GCAAGGGTTTTGGCTGAG------GCAATG---AGTCAAGTACAC------------------------CAGACAAACATA---ATGATG------CAGAAAGGCAAT---------TTT---AGGGGCCAGAAAAGA---------ATTAAGTGTTTCAACTGT---GGCAAAGAAGGA---CAC---CTA---GCC---AGAAATTGCAGGGCCCCTAGG------AAAAAG---GGCTGTTGGAAATGTGGG---AAGGAAGGA---CATCAAATGAAAGACTGC---------------ACTGAGAGACAGGCTAATTT-TTT---AGGGAAAATTTG---GCC---TTCCAGCAA---------GGG---GAG---GCCAGGAAATTTTCCTCAGAGCAGACCAGAGCCAACAGC------------------------------------------------------CCCACCAGC------AGAGAGCTTTGGGAT------------------GGGGGAAGAGAT---GAC---CTCCTC---------------------------------------TCCAAA---------------GCAGGAGCA------------GAAAGACAG---------------------------GGA------------ACAGAC---TCCTCCTTT------AATTTCCCTCAAATCACTCTTTGGCAACGACCCATTGTCACAGTAAAA---ATAGGAGGA---CAGCTAAAAGAAGCTCTATTA---GATACAGGAGCAGATGATACAGTATTA---GAA------GAC------ATAAATTTG---CCAGGA---AAATGGAAACCAAAA---ATGATAGGGGGAATTGGAGGTTTTATCAAAGTA---AGACAGTAT---GATCAGATACTTATAGAAATTTGTGGA---AAAAAGGCTATA---GGTACAGTATTGGTAGGA---CCTACACCTGTC------AAC---ATAATTGGAAGAAATATGTTGACTCAGATTGGTTGTACTTTAAATTTT---CCAATTAGCCCTATTGAAACTGTACCAGTAAAATTAAAACCAGGAATG---GATGGCCCAAAGGTTAAACAA---TGGCCATTGACAGAAGAA---AAAATAAAAGCGTTAACAGACATTTGTAAA------GAGATGGAA---AAGGAGGGAAAAATTTCA---AGA---ATTGGGCCT---GAAAATCCATACAATACTCCAGTA---TTTGCTATAAAGAAA---AAGGACAGC------------ACTAAA---------TGGAGG---AAATTAGTAGATTTCAGAGAGCTCAATAAA---AGAACTCAGGACTTCTGGGAA---GTTCAA------TTA---GGAATA---------------------------CCGCACCCAGCGGGTCTA---AAA------AAG---AAA---AAA------TCAGTAACAGTACTAGATGTGGGGGATGCATAT---TTTTCAGTTCCTTTA---GATGAAAACTTTAGA---AAGTATACTGCGTTCACCATACCTAGTACAAACAATGAGACACCAGGAATCAGATATCAGTACAATGTGCTCCCACAGGGATGGAAAGGATCACCAGCAATATTCCAGTGT---------AGCATG---ACAAAAATTTTAGAGCCCTTTAGATCA---AAAAACCCAGACATAGTTATCTATCAATACATGGATGACTTGTATGTAGGATCTGATTTAGAAATA---GGGCAG---CATAGG---ACAAAAATAGAGGAGTTAAGAGCTCATCTATTGAGCTGGGGGTTTACC---ACACCAGATAAAAAG---CATCAGAAAGAACCTCCATTTCTTTGGATGGGATATGAACTC---CATCCTGACAAATGGACAGTTCAG---CCTATACAGCTGCCAGAA---AAGGAC---AGCTGG---ACTGTCAATGATATA---CAG---AAATTAGTAGGAAAACTAAATTGG------------------GCAAGTCAGATTTAT---GCAGGGATTAAAGTA---AAGCAGCTGTGTAAACTC---CTCAGGGGAGCCAAAGCACTAACAGATATA---GTACCACTGACTGAGGAA---GCAGAATTAGAATTG---GCAGAAAACAGG---GAGATTCTAAAAGACCCTGTGCATGGAGTATATTATGACCCATCAAAAGACTTAATAGCAGAAATACAGAAACAAGGACAA---GACCAATGGACATAT---CAAATTTATCAAGAGCCATTT---AAAAATCTAAAA---ACAGGA---AAATATGCAAGAAAA---AGGTCTGCTCACACTAATGATGTA------AGACAATTAGTGGAAGTGGTGCAAAAGGTGGCCACAGAAAGCATAGTAATATGGGGAAGG---ACCCCTAAATTTAAACTACCCATACAAAAAGAAACATGGGAAGCA---------TGGTGGATGGAGTATTGGCAGGCTACTTGGATTCCTGAA---TGGGAG------------------TTTGTCAATACCCCTCCTCTAGTAAAATTATGGTACCAGTTAGAGAAA---------------------------------GACCCCATAGTAGGAGCAGAG---ACTTTCTATGTAGATGGGGCAGCTAAT---AGGGAGACTAAACTAGGAAAA---GCAGGGTATGTCACTGACAGAGGAAGACAAAAG---GTTGTTTCTCTAACTGAAACAACAAATCAAAAGACTGAATTGCATGCAATCCATCTGGCCTTGCAGGATTCA---GGACCAGAAGTAAATATAGTGACAGACTCACAGTATGCATTAGGAATCATT---CAGGCACAACCAGACAGGAGTGAATCAGAAATAGTC---AAT---CAAATAATAGAG---AGGCTAATAGAAAAG---GAAAAA---GTCTACCTGTCATGGGTACCAGCGCACAAGGGGATT---GGAGGAAATGAA---CAAGTAGATAAATTAGTCAGATGGGGA---ATCAGGAGGGTGCTA---TTTTTAGAT---GGA---ATAGAT---AAGGCTCAA---GAA---GAACATGAAAAATATCACAGCAACTGGAGAGCA---ATGGCTAGTGAT---TTTAATCTG---CCACCTGTAGTA---GCGAAGGAA---ATAGTAGCC---AGCTGTAATAAATGT---CAACTAAAAGGGGAA---GCCATACATGGACAAGTAGACTGCAGTCCAGGGATATGGCAATTAGAT---TGCACACATCTAGAAGGAAAAGTAATTCTAGTA---GCAGTCCATGTAGCCAGTGGCTATATAGAA---GCAGAAGTTATCCCAGCAGAAACAGGACAGGAGACAGCATACTTTCTG---CTGAAATTAGCA---GGGAGATGG---CCAGTAAAAGTAATACAC------ACAGACAATGGCAGTAATTTCACCAGCGCTGCAGTTAAAGCAGCC---TGTTGGTGGGCAGATATCCAA---CAGGAATTTGGAATTCCCTACAATCCCCAAAGTCAAGGAGTAGTGGAATCTATGAACAAGGAATTA---AAGAAAATCATAGGGCAGGTAAGAGAGCAAGCTGAACACCTTAGGACAGCAGTACAAATGGCAGTATTCATTCAC---------AATTTT---AAAAGA---AAA---GGGGGG---ATTGGGGGA---------------------------------------------------------------TACAGTGCAGGGGAAAGAATAATAGACATAATAGCAACAGACATACAAACTAAAGAATTACAAAAACAAATTATAAAA---ATTCAA---------AATTTTCGGGTTTAT---TACAGGGACAGCAGAGACCCAATTTGGAAAGGACCAGCAAAGCTACTC---TGGAAAGGTGAAGGGGCAGTAGTAATACAG------------------GACAAT------AATGATATAAAGGTTGTACCAAGAAGAAAAGCA---AAGATC---CTTAGGGAT---TATGGAAAACAGATGGCA---GGTGATGATTGTGTG---GCA------GGTAGACAGGATGAGGATTAG--AGCATGGAACAGTTTAGTAAAACATCATATGTATATCTCAAGGAAAGCT---CACGGCTGGTTTTATAGACATCATTATGACAGT---AGGCAT---CCAAAAGTAAGT---------TCAGAGGTACACATCCCACTAGGG---------------------GATGCT---AGATTAGTAGTAATAACATAT---TGGGGTCTGCATACAGGAGAAAAA---GACTGGCAC---TTGGGTCATGGGGTCTCCATAGAATGGAGG---CAGAAAAGATATAGCACACAA---GTAGATCCTGACCTAGCAGACCAACTA---ATTCATCAATATTATTTTGACTGTTTTTCAGAATCT---GCCATAAGGAAAGCCATACTAGGACAATTAGTT---AGACCTAGGTGTGAATATCAAACAGGACATAAC------AAGGTAGGATCTCTACAATATTTGGCT------------CTGAAAGCA---TTAGTAACA---------------CCAACA------------AGGATAAAG---CCACCTTTG---CCTAGTGTT------------AAGAAATTAGCAGAGGATAGA------TGGAACAGATCCCAGAAGACCAGGGGCCACAGAGGGAGCCGCACAATGAATGGACGTTAG-AGCTGTTAGAAGAGCTTAAGAATGAAGCTGTTAGA---CATTTCCCTAGGCCGTGGCTCCATGGATTAGGACAATATATCTATAACACCTATGGGGATACT---TGGGAAGGAGTTGAAGCTATAATA---AGAATTCTGCAA---CAATTACTGTTTGTTCAT---TTCAGAATTGGGTGC---CAACATAGCAGAATAGGCATT---------------ATTCGA------------------GGGAGAAGAGTCAGG------GATGGAGCCGGT------AGATCCTAA--CCTAGAGCCCTGGAAC---CATCCGGGAAGTCAACCTACAACT---CCTTGTAGCAAGTGTTAC------TGTAAATGGTGTTGCTGGCATTGCCAA---------------CTTTGCTTTCTGAACAAAGGCTTA---------GGCATCTCCTATGGCAGGAAGAAG---------CGGAGA------CCCCGACGA---GGAACTTCTCAAGGCAGTAAGGATCATCAAAAT---CTTATACCAAAGCA--GTAAGTGTTAATAATT-----------------------------AGTATATGTA-ATG------------------------------------------------CTGTCGCCTTTACAAATCTGTGCAATAGTAGGACTGATAGTGGCA---CTAATCATAGCAATAGTAGTGTGGACTATA---------------------GTAGGTATAGAATATAGA------------------------------------AAATTGCGAAAGCAAAGAAAAATA---GACAGGTTAATAGAAAGAATAAGAGAA---------------------------------AGAGCAGAAGACAGT---GGC---A--------------ATGAGAGTGATGGGG---------ACACGGAGGAAT---TAT---------CCA---CGCTTG------TGG---------------------------------------------------------AGGTGGGGGACTATA------ATCTTATGG------ATG---ATAATAACATGT------------------------------AAGGCTGCA------GAAAACTTGTGGGTCACGGTCTACTATGGG------------------GTACCTGTGTGG---AGAGACGCAGAT---ACCACC------------CTATTTTGTGCATCAGATGCTAAAGCACATGATACA---GAGGTG---CATAATATC---TGGGCTACACATGCCTGTGTACCCACAGAC---CCCAACCCACAAGAAATA---AAGTTG------GACAATGTGACAGAAGAGTTTAACATGTGGAAAAATAACATGGTAGAGCAGATGCAT---GAAGATATAATCAGTCTATGGGACCAAAGCCTAACG---CCA---TGT---GTAAAGTTAACC------CCTCTC---TGTGTTACT---------TTAGAT---TGTAGCCATAACATCACCAGAAACAACACCAAT------------------------------------------------------------------------------------------------------------AGCACATTAGAGGAGATGAAACAAGAAATAAAAAACTGCTCTTTCAATATGACC---------------------ACAGAACTAAGAGATAAGAAACAGAAAGTATATGCACTTTTTTATAGACTTGATGTA---GTGCAA---ATTAATGAAAATAAT---------------------------------------------------------------------------------------GATAATGGTAGTGATCATAAC---CAA---TAT---AGA---CTAATAAATTGTAATACC---TCAGCC---ATT------ACACAG------GCTTGT---CCCAAG------GTGACCTTTGAG---CCAATTCCC---ATACATTAT------TGTGCCCCAGCT------GGTTTTGCGATTCTA------AAG---TGT---AAGGATAAG---AAGTTC---AAT---GGA---ACAGGGCCA---------TGCAAG---AATGTC---AGCACAGTG------CAATGTACACAT---GGAATCAAGCCAGTA---------GTATCA---ACTCAA---CTGCTGTTA---------AATGGCAGT---CTAGCA---GAA---GAACAG------------------------------------GTAATGATTAGATCTGAAAATATCACAGACAATGCCAAAACC---ATA---ATAGTA------CAGCTTGCC------ACG------CCTGTAGAAATTAATTGTACCAGGCCAAACAACAAT------ACAAGA---AAA------AGT---GTACGGATAGGACCAGGACAA---ACA------TTC---TAT---------------------GCAACA---GGTGAC------------------ATAATAGGGAATATAAGACAAGCACATTGTGAAGTTAGT---------------------AAAGAGAAATGGCAG---GATGCT---TTACAACAGGTA---GCTAAA---CAATTGATA------AAACACTTTAAG---------------------------------AACAAAACAATAAACTTT------------------ACT---GACTCC------TCAGGA---------GGGGATTTAGAAATTACAACACATAGCTTTAATTGTGGA---GGAGAATTTTTCTATTGTAATACA---TCAAGC---CTGTTTAATAGCACTTGGAAAGAGGAGAATGGCACT------------------------------------------------------GTCAGCATGCAGAATGACACGGAGTCAACTGACCCTATAACTCTCCAATGTAGA---ATAAAGCAAGTTATAAACATGTGGCAG---------------------------AGAGTAGGACAAGCAATATATGCCCCTCCCATCCAAGGAGTAATAAGA------TGTGTA---TCA---AAC---ATT---------------ACAGGACTA---CTA---TTAACA------------AGAGATGGTGGG------------------------------------------------AGTAATAATAATACTTCAAATGAAACC---------TTCAGACCTGGAGGAGGAGATATGAGGGACAATTGGAGA------AGTGAA---TTATAT---AAG---TATAAA---GTAGTA------AAAATT---GAACCA---CTA---GGAGTAGCACCC------ACC---AAGGCAAAGAGA---AGA---GTG---GTG---------------GAG---AGAGAAAAAAGA---GCAGTT------GGA------CTG---GGA------GCT---GTC---TTCCTT---GGG---TTCTTAGGAGCAGCA---GGAAGT---------ACGATG---GGCGCGGCGTCA---ATAACGCTGACGGTACAGGCC---AGA------CAA---TTATTG---TCTGGCATA---GTGCAA---CAGCAG---AGCAATCTG---CTGAGG---GCTATAGAG------GCTCAACAG------CAACTG---TTGAGACTCACGGTCTGGGGCATTAAACAG---CTCCAG---GCAAGAGTCCTGGCTGTGGAAAGATACCTAAAG---GATCAACAGCTCCTA---GGAATTTGG------GGCTGCTCTGGAAAA---CTCATCTGC------ACCACTTCTGTGCCCTGGAACAAT---AGT---TGG---------------------------------------AGTAATAAATCTCAGAATGAAATATGG---------GAC---AACATGACTTGG---CTGCAA---TGG---GAT---AAAGAAATTAGC---AATTACACACAAATAATATATAATCTACTTGAAGAATCGCAG---AACCAGCAGGAA---AAGAATGAACAAGAC---TTA---------------TTGGCATTGGACAAATGG---GCA---AATCTGTGGACTTGGTTT---GACATCTCAAATTGGCTATGGTATATA---AAAATATTTATAATGGTAGTAGGA---GGCTTAATAGGATTA---AGAATAGTT---TTTGATGGGCTTTCTATAATA---------CGTAGAGTTAGGCAGGGATACTCA---CCT---TTGTCG---TTTCAG---ACCCAT---ATCCCAAAC---------------CCA---AGGGAT------CTCGACAGG------CCCGAAAGAACAGAAGAAGAAGGT---GGA---------GAGCAAGGC---------AGAAGCAGATCG---ATTCGA------------TTAGTGAGCGGA---TTCTTAGCA---CTTGCCTGGGACGACCTGCGGAGCCTGTGCCTC------------TTC------------AGCTAC---CACCGCTTGAGGGAC---TTCATCTTG------ATTGCAGCGAGGACTGTGGAA---CTT---CTG---GGACACAGCAGTCTCAAGGGACTGAGA------------------------CTGGGGTGG------GAAGGCCTTAAA---TATCTG---------TGGAATCTTCTGTTATATTGGGGACGGGAACTAAAAAATAGTGCT---ATTACTTTGCTTGACACTGCAGCAGTAGTGGTAGCTGGG---TGGACAGATAGGGTTATAGAAGTAGGACAAAGAGTGGGGAGA------GCTGTTCTCCATATACCTAGA---AGAATC------AGACAAGGCTTCGAAAGGGCT------TTG------------CTA---TAA------------------------------------------C--ATGGGTGGCAAGTGGTCAAAA---------AGTAGCATA---GTG---GGATGGCCTGCAGTCAGGGAAAGAATGAGACAAACT------------------------------------------------------------CCTGCAGCA------------------------------GCAAAAGGAGTAGGAGCA---GTATCTCAAGATTTAGATAAATATGGAGCAGTAACAAGCAATAATACACCAGCTACTAATGCCGAT------TGTGCCTGGCTGGAAGCA---------CAAGAGGAA---------GAG------GAGGTAGGCTTTCCAGTTAGGCCGCAGGTACCTTTAAGACCAATGACTTATAAGGGAGCTGTG------GATCTCAGCCACTTTTTAAAAGAAAAGGGGGGACTG---GATGGGTTAATTTACTCCCGGAAA---AGACAAGAGATC---------CTTGATCTGTGGGTCTACAACACA---CAA---GGCTACTTC---CCTGATTGGCAG---AATTACACACCAGGGCCAGGG---ATCAGATACCCA---CTAACATTTGGATGGTGCTACAAGCTAGTACCAGTTGATCAAGGTGCA---GTAGAGGAG---------------------------------GCTACTGGAGAG------GAGAACAACAGTCTATTACACCCTATATGCCAACATGGAATGGATGATGAG---GAGAAA---GAAGTGTTAATGTGGAGATTTGACAGTACCCTGGCA---TTAAGACACAGAGCTCATGAGATGCAT---CCGGAGTTC------------------------TACAAAGACTGCTGAC---------AGCCTACAAAAGACTGCTGAC-----------ACAGAAGTT-----------------------------------GCTGAC---------------------------------------------GGGACTTTCC-----------------ACTG-------------------------------------------------GGGACTTTCC---------------------------------------------------------------------------------GGGGAGGT---------------GTGGTT-TGGGTGGAGTT-----------AGGG-AGTG-GC-TACCCC--TCAG-A-----TGCTGCAT--ATAAGCAG-C-TGCTTTT-C-GC-T-TG-TA--CTGG-G----TC-TCTC--TT--------G-TTAG----A----------------CCAGAT---------------------------------------------------------------------------------TGAG----------------CC-TGGG-AGCTC----------------------------TCTGG-----------C------------------------------------------------TAGC-G-AGGGAA-C-CCACTGCTT----------------------------------------------------------AA-GCCT-----------------------C-AAT--AAAGC-TTGC----C--------------------TT--GA--G----------------TG--------------------------------------------------------------------------------------------------------------------------------------------------------------------------------------------------------------------------------------------------------------------------------------------------------------------------------------------------------------------------------------------------------------------------------------------------------------------------------------------------------'"
      ]
     },
     "execution_count": 7,
     "metadata": {},
     "output_type": "execute_result"
    }
   ],
   "source": [
    "pairs[0][1]"
   ]
  },
  {
   "cell_type": "code",
   "execution_count": 8,
   "id": "91671bb9",
   "metadata": {},
   "outputs": [
    {
     "name": "stderr",
     "output_type": "stream",
     "text": [
      "100%|████████████████████████████████████████████████████████████████████████████████| 100/100 [00:01<00:00, 84.97it/s]\n"
     ]
    }
   ],
   "source": [
    "#ovo za 1% traje 30 minuta kad se radi na svim podatcima\n",
    "pairs2 = []\n",
    "duljina = len(pairs[0][0])  # sve sekvence su jednake duljine\n",
    "\n",
    "for pair in tqdm(pairs[:100]):\n",
    "    new_pair = (\n",
    "        ''.join(a for a, b in zip(pair[0], pair[1]) if a != '-' or b != '-'),\n",
    "        ''.join(b for a, b in zip(pair[0], pair[1]) if a != '-' or b != '-')\n",
    "    )\n",
    "    pairs2.append(new_pair)\n",
    "\n",
    "\n"
   ]
  },
  {
   "cell_type": "code",
   "execution_count": 9,
   "id": "f1bca367",
   "metadata": {},
   "outputs": [],
   "source": [
    "#za svaki par treba parsirati susjedne procjepe ('-AC'i 'T-C' postaje 'AC' i 'TC')\n",
    "#ako imamo Ix pa Iy ili Iy pa Ix to postaje M"
   ]
  },
  {
   "cell_type": "code",
   "execution_count": 10,
   "id": "a0512d7b",
   "metadata": {},
   "outputs": [
    {
     "name": "stderr",
     "output_type": "stream",
     "text": [
      "100%|████████████████████████████████████████████████████████████████████████████████| 100/100 [00:01<00:00, 80.14it/s]\n"
     ]
    }
   ],
   "source": [
    "def susjedni_procjepi(lista_parova):\n",
    "    rezultat = []\n",
    "\n",
    "    for prvi, drugi in tqdm(lista_parova):\n",
    "        novi_prvi = \"\"\n",
    "        novi_drugi = \"\"\n",
    "\n",
    "        \n",
    "        for i, znak in enumerate(prvi):\n",
    "            if (znak == '-' and i > 0 and drugi[i - 1] == '-') or (znak == '-' and i < (len(prvi) - 1) and drugi[i + 1] == '-'):\n",
    "                continue\n",
    "            novi_prvi += znak\n",
    "            \n",
    "        for i, znak in enumerate(drugi):\n",
    "            if (znak == '-' and i > 0 and prvi[i - 1] == '-') or (znak == '-' and i < (len(prvi) - 1) and prvi[i + 1] == '-'):\n",
    "                continue\n",
    "            novi_drugi += znak\n",
    "\n",
    "        rezultat.append((novi_prvi, novi_drugi))\n",
    "\n",
    "    return rezultat\n",
    "\n",
    "pairs3 = susjedni_procjepi(pairs2)"
   ]
  },
  {
   "cell_type": "code",
   "execution_count": 11,
   "id": "5aa71f50",
   "metadata": {},
   "outputs": [
    {
     "data": {
      "text/plain": [
       "9849"
      ]
     },
     "execution_count": 11,
     "metadata": {},
     "output_type": "execute_result"
    }
   ],
   "source": [
    "len(pairs3[0][0])"
   ]
  },
  {
   "cell_type": "code",
   "execution_count": 18,
   "id": "44d9f493",
   "metadata": {},
   "outputs": [
    {
     "name": "stderr",
     "output_type": "stream",
     "text": [
      "100%|███████████████████████████████████████████████████████████████████████████████| 100/100 [00:00<00:00, 593.52it/s]\n"
     ]
    }
   ],
   "source": [
    "#za svaki par napravi string sa stanjima - Ix,Iy,M\n",
    "\n",
    "stanja = {}\n",
    "stanja_lista = []\n",
    "for pair in tqdm(pairs3):\n",
    "    new_pair = [\n",
    "        'M' if a != '-' and b != '-' else\n",
    "        'Ix' if a != '-' and b == '-' else\n",
    "        'Iy'\n",
    "        for a, b in zip(pair[0], pair[1])\n",
    "    ]\n",
    "    \n",
    "    stanja[pair] = new_pair\n",
    "    stanja_lista.append(new_pair)\n",
    "\n"
   ]
  },
  {
   "cell_type": "code",
   "execution_count": 19,
   "id": "a44d1ebd",
   "metadata": {},
   "outputs": [
    {
     "data": {
      "text/plain": [
       "100"
      ]
     },
     "execution_count": 19,
     "metadata": {},
     "output_type": "execute_result"
    }
   ],
   "source": [
    "len(stanja)"
   ]
  },
  {
   "cell_type": "code",
   "execution_count": 25,
   "id": "fcfa599c",
   "metadata": {},
   "outputs": [
    {
     "name": "stdout",
     "output_type": "stream",
     "text": [
      "7 93 0\n"
     ]
    }
   ],
   "source": [
    "prvi_element = [i[0] for i in stanja_lista]\n",
    "broj_M = prvi_element.count('M')\n",
    "broj_Ix = prvi_element.count('Ix')\n",
    "broj_Iy = prvi_element.count('Iy')\n",
    "print(broj_M,broj_Ix,broj_Iy)\n"
   ]
  },
  {
   "cell_type": "markdown",
   "id": "acdd7a1b",
   "metadata": {},
   "source": [
    "#### matrica početnih vjerojatnosti $\\pi$"
   ]
  },
  {
   "cell_type": "code",
   "execution_count": 29,
   "id": "6d13c362",
   "metadata": {},
   "outputs": [
    {
     "data": {
      "text/plain": [
       "[0.07, 0.93, 1e-05]"
      ]
     },
     "execution_count": 29,
     "metadata": {},
     "output_type": "execute_result"
    }
   ],
   "source": [
    "#0-index je M, 1-index je Ix, 2-index je Iy\n",
    "\n",
    "pi = [broj_M/len(prvi_element), broj_Ix/len(prvi_element), broj_Iy/len(prvi_element)]\n",
    "#ako slucajno bude 0 to treba zamjeniti s malom vrijednošću\n",
    "eps = 0.00001\n",
    "pi = [max(vjerojatnost,eps) for vjerojatnost in pi]\n",
    "pi"
   ]
  },
  {
   "cell_type": "markdown",
   "id": "ddb477e4",
   "metadata": {},
   "source": [
    "#### matrica vjerojatnosti prijelaza A"
   ]
  },
  {
   "cell_type": "code",
   "execution_count": 49,
   "id": "2fd062c5",
   "metadata": {},
   "outputs": [
    {
     "data": {
      "text/plain": [
       "array([[0.99723469, 0.00166448, 0.00110083],\n",
       "       [0.0140742 , 0.9859258 , 0.        ],\n",
       "       [0.11846992, 0.        , 0.88153008]])"
      ]
     },
     "execution_count": 49,
     "metadata": {},
     "output_type": "execute_result"
    }
   ],
   "source": [
    "import numpy as np\n",
    "\n",
    "stanja_set = ['M', 'Ix', 'Iy']\n",
    "\n",
    "#inicijalizacija\n",
    "matrica_prijelaza = np.zeros((len(stanja_set), len(stanja_set)))\n",
    "\n",
    "#frekvencije\n",
    "for par in stanja_lista:\n",
    "    for i in range(len(par) - 1):\n",
    "        trenutno_stanje = stanja_set.index(par[i])\n",
    "        sljedece_stanje = stanja_set.index(par[i + 1])\n",
    "        matrica_prijelaza[trenutno_stanje, sljedece_stanje] += 1\n",
    "\n",
    "#normalizacija\n",
    "matrica_prijelaza = matrica_prijelaza/np.sum(matrica_prijelaza, axis=1, keepdims=True)\n",
    "\n",
    "matrica_prijelaza"
   ]
  },
  {
   "cell_type": "code",
   "execution_count": 50,
   "id": "97e9c9de",
   "metadata": {},
   "outputs": [
    {
     "data": {
      "text/plain": [
       "array([[9.97234690e-01, 1.66447727e-03, 1.10083258e-03],\n",
       "       [1.40741970e-02, 9.85925803e-01, 1.00000000e-05],\n",
       "       [1.18469918e-01, 1.00000000e-05, 8.81530082e-01]])"
      ]
     },
     "execution_count": 50,
     "metadata": {},
     "output_type": "execute_result"
    }
   ],
   "source": [
    "#zamijeniti nule s epsilonom\n",
    "matrica_prijelaza = np.where(matrica_prijelaza == 0, eps, matrica_prijelaza)\n",
    "matrica_prijelaza"
   ]
  },
  {
   "cell_type": "markdown",
   "id": "f18f6ee9",
   "metadata": {},
   "source": [
    "#### matrica emisija E"
   ]
  },
  {
   "cell_type": "code",
   "execution_count": null,
   "id": "58aa7dec",
   "metadata": {},
   "outputs": [],
   "source": [
    "#emitirati se mogu parovi AA,AC,AG,AT,CC,CA,CG,CT,GG,GA,GC,GT,TT,TA,TC,TG,A,C,G,T,-(ne znam kad obrišemo -- slučaj)\n",
    "#stanja M,Ix,Iy"
   ]
  },
  {
   "cell_type": "code",
   "execution_count": 54,
   "id": "73302f4f",
   "metadata": {},
   "outputs": [],
   "source": [
    "emisija = sorted([\"AA\",\"AC\",\"AG\",\"AT\",\"CC\",\"CA\",\"CG\",\"CT\",\"GG\",\"GC\",\"GT\",\"GA\",\"TT\",\"TA\",\"TC\",\"TG\",\"A\",\"G\",\"C\",\"T\"])"
   ]
  },
  {
   "cell_type": "code",
   "execution_count": 59,
   "id": "5a7613b0",
   "metadata": {},
   "outputs": [
    {
     "data": {
      "text/plain": [
       "{('AA-', 'TGA'): ['M', 'M', 'Iy'], ('AC-', 'C-A'): ['M', 'Ix', 'Iy']}"
      ]
     },
     "execution_count": 59,
     "metadata": {},
     "output_type": "execute_result"
    }
   ],
   "source": [
    "#primjer = {(\"AA-\",\"TGA\"):[\"M\",\"M\",\"Iy\"],(\"AC-\",\"C-A\"):[\"M\",\"Ix\",\"Iy\"]}\n",
    "#primjer"
   ]
  },
  {
   "cell_type": "code",
   "execution_count": 63,
   "id": "0642ea37",
   "metadata": {},
   "outputs": [],
   "source": [
    "matrica_emisija = np.zeros((len(stanja_set), len(emisija)))\n"
   ]
  },
  {
   "cell_type": "code",
   "execution_count": 64,
   "id": "efd8bd71",
   "metadata": {},
   "outputs": [
    {
     "name": "stdout",
     "output_type": "stream",
     "text": [
      "AT M\n",
      "AG M\n",
      "A Iy\n",
      "AC M\n",
      "C Ix\n",
      "A Iy\n"
     ]
    },
    {
     "data": {
      "text/plain": [
       "array([[0., 0., 1., 1., 1., 0., 0., 0., 0., 0., 0., 0., 0., 0., 0., 0.,\n",
       "        0., 0., 0., 0.],\n",
       "       [0., 0., 0., 0., 0., 1., 0., 0., 0., 0., 0., 0., 0., 0., 0., 0.,\n",
       "        0., 0., 0., 0.],\n",
       "       [2., 0., 0., 0., 0., 0., 0., 0., 0., 0., 0., 0., 0., 0., 0., 0.,\n",
       "        0., 0., 0., 0.]])"
      ]
     },
     "execution_count": 64,
     "metadata": {},
     "output_type": "execute_result"
    }
   ],
   "source": [
    "for par, stanja in stanja.items():\n",
    "    for i, simbol_stanja in enumerate(stanja):\n",
    "        x,y = par\n",
    "        if x[i] != '-' and y[i] != '-':\n",
    "            par_simbola = x[i] + y[i]\n",
    "        else:\n",
    "            if x[i] == '-':\n",
    "                par_simbola = y[i]\n",
    "            else:\n",
    "                par_simbola = x[i]\n",
    "        print(par_simbola,simbol_stanja)\n",
    "        matrica_emisija[stanja_set.index(simbol_stanja), emisija.index(par_simbola)] += 1\n",
    "matrica_emisija"
   ]
  },
  {
   "cell_type": "code",
   "execution_count": 67,
   "id": "6683427f",
   "metadata": {},
   "outputs": [
    {
     "data": {
      "text/plain": [
       "array([[0.        , 0.        , 0.33333333, 0.33333333, 0.33333333,\n",
       "        0.        , 0.        , 0.        , 0.        , 0.        ,\n",
       "        0.        , 0.        , 0.        , 0.        , 0.        ,\n",
       "        0.        , 0.        , 0.        , 0.        , 0.        ],\n",
       "       [0.        , 0.        , 0.        , 0.        , 0.        ,\n",
       "        1.        , 0.        , 0.        , 0.        , 0.        ,\n",
       "        0.        , 0.        , 0.        , 0.        , 0.        ,\n",
       "        0.        , 0.        , 0.        , 0.        , 0.        ],\n",
       "       [1.        , 0.        , 0.        , 0.        , 0.        ,\n",
       "        0.        , 0.        , 0.        , 0.        , 0.        ,\n",
       "        0.        , 0.        , 0.        , 0.        , 0.        ,\n",
       "        0.        , 0.        , 0.        , 0.        , 0.        ]])"
      ]
     },
     "execution_count": 67,
     "metadata": {},
     "output_type": "execute_result"
    }
   ],
   "source": [
    "matrica_emisija = matrica_emisija/np.sum(matrica_emisija, axis=1, keepdims=True)#zbroj po retcima\n",
    "\n",
    "matrica_emisija"
   ]
  },
  {
   "cell_type": "code",
   "execution_count": 68,
   "id": "b26b5ba7",
   "metadata": {},
   "outputs": [
    {
     "data": {
      "text/plain": [
       "array([[1.00000000e-05, 1.00000000e-05, 3.33333333e-01, 3.33333333e-01,\n",
       "        3.33333333e-01, 1.00000000e-05, 1.00000000e-05, 1.00000000e-05,\n",
       "        1.00000000e-05, 1.00000000e-05, 1.00000000e-05, 1.00000000e-05,\n",
       "        1.00000000e-05, 1.00000000e-05, 1.00000000e-05, 1.00000000e-05,\n",
       "        1.00000000e-05, 1.00000000e-05, 1.00000000e-05, 1.00000000e-05],\n",
       "       [1.00000000e-05, 1.00000000e-05, 1.00000000e-05, 1.00000000e-05,\n",
       "        1.00000000e-05, 1.00000000e+00, 1.00000000e-05, 1.00000000e-05,\n",
       "        1.00000000e-05, 1.00000000e-05, 1.00000000e-05, 1.00000000e-05,\n",
       "        1.00000000e-05, 1.00000000e-05, 1.00000000e-05, 1.00000000e-05,\n",
       "        1.00000000e-05, 1.00000000e-05, 1.00000000e-05, 1.00000000e-05],\n",
       "       [1.00000000e+00, 1.00000000e-05, 1.00000000e-05, 1.00000000e-05,\n",
       "        1.00000000e-05, 1.00000000e-05, 1.00000000e-05, 1.00000000e-05,\n",
       "        1.00000000e-05, 1.00000000e-05, 1.00000000e-05, 1.00000000e-05,\n",
       "        1.00000000e-05, 1.00000000e-05, 1.00000000e-05, 1.00000000e-05,\n",
       "        1.00000000e-05, 1.00000000e-05, 1.00000000e-05, 1.00000000e-05]])"
      ]
     },
     "execution_count": 68,
     "metadata": {},
     "output_type": "execute_result"
    }
   ],
   "source": [
    "#zamijeniti nule s epsilonom\n",
    "matrica_emisija = np.where(matrica_emisija == 0, eps, matrica_emisija)\n",
    "matrica_emisija"
   ]
  }
 ],
 "metadata": {
  "kernelspec": {
   "display_name": "Python 3 (ipykernel)",
   "language": "python",
   "name": "python3"
  },
  "language_info": {
   "codemirror_mode": {
    "name": "ipython",
    "version": 3
   },
   "file_extension": ".py",
   "mimetype": "text/x-python",
   "name": "python",
   "nbconvert_exporter": "python",
   "pygments_lexer": "ipython3",
   "version": "3.9.1"
  }
 },
 "nbformat": 4,
 "nbformat_minor": 5
}
